{
  "nbformat": 4,
  "nbformat_minor": 0,
  "metadata": {
    "colab": {
      "name": "ufc_analysis.ipynb",
      "provenance": [],
      "collapsed_sections": []
    },
    "kernelspec": {
      "name": "python3",
      "display_name": "Python 3"
    },
    "language_info": {
      "name": "python"
    }
  },
  "cells": [
    {
      "cell_type": "code",
      "metadata": {
        "id": "f5IQXDpfq5N-"
      },
      "source": [
        "# The following piece of code gives the opportunity to show multiple outputs\n",
        "# in one cell:\n",
        "from IPython.core.interactiveshell import InteractiveShell\n",
        "InteractiveShell.ast_node_interactivity = \"all\""
      ],
      "execution_count": 1,
      "outputs": []
    },
    {
      "cell_type": "code",
      "metadata": {
        "id": "LXXv4Jht6HWJ"
      },
      "source": [
        "import pandas as pd\n",
        "import os\n",
        "import numpy as np\n",
        "import matplotlib.pyplot as plt\n",
        "from sklearn.model_selection import train_test_split\n",
        "from sklearn.metrics import accuracy_score\n",
        "from sklearn.model_selection import cross_val_score\n",
        "%matplotlib inline"
      ],
      "execution_count": 2,
      "outputs": []
    },
    {
      "cell_type": "code",
      "metadata": {
        "colab": {
          "base_uri": "https://localhost:8080/",
          "height": 36
        },
        "id": "cgfGUtokrW7M",
        "outputId": "64b2b826-c3d0-42f4-efc5-dcebdf924fa2"
      },
      "source": [
        "# Ensure proper working dir on colab\n",
        "os.getcwd()"
      ],
      "execution_count": 3,
      "outputs": [
        {
          "output_type": "execute_result",
          "data": {
            "application/vnd.google.colaboratory.intrinsic+json": {
              "type": "string"
            },
            "text/plain": [
              "'/content'"
            ]
          },
          "metadata": {},
          "execution_count": 3
        }
      ]
    },
    {
      "cell_type": "code",
      "metadata": {
        "id": "oYPblpzdrNnn"
      },
      "source": [
        "# https://www.kaggle.com/rajeevw/ufcdata - original dataset.\n",
        "# put the data.csv in the /content folder beforehand\n",
        "df = pd.read_csv('data.csv')"
      ],
      "execution_count": 4,
      "outputs": []
    },
    {
      "cell_type": "markdown",
      "metadata": {
        "id": "-H-sr_Hq_iFC"
      },
      "source": [
        "Explore the dataframe "
      ]
    },
    {
      "cell_type": "code",
      "metadata": {
        "colab": {
          "base_uri": "https://localhost:8080/"
        },
        "id": "0s45rNBtr0pK",
        "outputId": "f64d0204-da30-4576-ca22-b7e17db96c01"
      },
      "source": [
        "df.info()"
      ],
      "execution_count": 5,
      "outputs": [
        {
          "output_type": "stream",
          "name": "stdout",
          "text": [
            "<class 'pandas.core.frame.DataFrame'>\n",
            "RangeIndex: 5144 entries, 0 to 5143\n",
            "Columns: 145 entries, R_fighter to R_age\n",
            "dtypes: bool(1), float64(134), int64(1), object(9)\n",
            "memory usage: 5.7+ MB\n"
          ]
        }
      ]
    },
    {
      "cell_type": "code",
      "metadata": {
        "colab": {
          "base_uri": "https://localhost:8080/"
        },
        "id": "Z7_hsvOur8M6",
        "outputId": "c61d2348-9ef8-4cae-caf6-8ff611524127"
      },
      "source": [
        "# Print all columns\n",
        "all_cols = df.columns\n",
        "for col in all_cols:\n",
        "  print(col)"
      ],
      "execution_count": 6,
      "outputs": [
        {
          "output_type": "stream",
          "name": "stdout",
          "text": [
            "R_fighter\n",
            "B_fighter\n",
            "Referee\n",
            "date\n",
            "location\n",
            "Winner\n",
            "title_bout\n",
            "weight_class\n",
            "no_of_rounds\n",
            "B_current_lose_streak\n",
            "B_current_win_streak\n",
            "B_draw\n",
            "B_avg_BODY_att\n",
            "B_avg_BODY_landed\n",
            "B_avg_CLINCH_att\n",
            "B_avg_CLINCH_landed\n",
            "B_avg_DISTANCE_att\n",
            "B_avg_DISTANCE_landed\n",
            "B_avg_GROUND_att\n",
            "B_avg_GROUND_landed\n",
            "B_avg_HEAD_att\n",
            "B_avg_HEAD_landed\n",
            "B_avg_KD\n",
            "B_avg_LEG_att\n",
            "B_avg_LEG_landed\n",
            "B_avg_PASS\n",
            "B_avg_REV\n",
            "B_avg_SIG_STR_att\n",
            "B_avg_SIG_STR_landed\n",
            "B_avg_SIG_STR_pct\n",
            "B_avg_SUB_ATT\n",
            "B_avg_TD_att\n",
            "B_avg_TD_landed\n",
            "B_avg_TD_pct\n",
            "B_avg_TOTAL_STR_att\n",
            "B_avg_TOTAL_STR_landed\n",
            "B_longest_win_streak\n",
            "B_losses\n",
            "B_avg_opp_BODY_att\n",
            "B_avg_opp_BODY_landed\n",
            "B_avg_opp_CLINCH_att\n",
            "B_avg_opp_CLINCH_landed\n",
            "B_avg_opp_DISTANCE_att\n",
            "B_avg_opp_DISTANCE_landed\n",
            "B_avg_opp_GROUND_att\n",
            "B_avg_opp_GROUND_landed\n",
            "B_avg_opp_HEAD_att\n",
            "B_avg_opp_HEAD_landed\n",
            "B_avg_opp_KD\n",
            "B_avg_opp_LEG_att\n",
            "B_avg_opp_LEG_landed\n",
            "B_avg_opp_PASS\n",
            "B_avg_opp_REV\n",
            "B_avg_opp_SIG_STR_att\n",
            "B_avg_opp_SIG_STR_landed\n",
            "B_avg_opp_SIG_STR_pct\n",
            "B_avg_opp_SUB_ATT\n",
            "B_avg_opp_TD_att\n",
            "B_avg_opp_TD_landed\n",
            "B_avg_opp_TD_pct\n",
            "B_avg_opp_TOTAL_STR_att\n",
            "B_avg_opp_TOTAL_STR_landed\n",
            "B_total_rounds_fought\n",
            "B_total_time_fought(seconds)\n",
            "B_total_title_bouts\n",
            "B_win_by_Decision_Majority\n",
            "B_win_by_Decision_Split\n",
            "B_win_by_Decision_Unanimous\n",
            "B_win_by_KO/TKO\n",
            "B_win_by_Submission\n",
            "B_win_by_TKO_Doctor_Stoppage\n",
            "B_wins\n",
            "B_Stance\n",
            "B_Height_cms\n",
            "B_Reach_cms\n",
            "B_Weight_lbs\n",
            "R_current_lose_streak\n",
            "R_current_win_streak\n",
            "R_draw\n",
            "R_avg_BODY_att\n",
            "R_avg_BODY_landed\n",
            "R_avg_CLINCH_att\n",
            "R_avg_CLINCH_landed\n",
            "R_avg_DISTANCE_att\n",
            "R_avg_DISTANCE_landed\n",
            "R_avg_GROUND_att\n",
            "R_avg_GROUND_landed\n",
            "R_avg_HEAD_att\n",
            "R_avg_HEAD_landed\n",
            "R_avg_KD\n",
            "R_avg_LEG_att\n",
            "R_avg_LEG_landed\n",
            "R_avg_PASS\n",
            "R_avg_REV\n",
            "R_avg_SIG_STR_att\n",
            "R_avg_SIG_STR_landed\n",
            "R_avg_SIG_STR_pct\n",
            "R_avg_SUB_ATT\n",
            "R_avg_TD_att\n",
            "R_avg_TD_landed\n",
            "R_avg_TD_pct\n",
            "R_avg_TOTAL_STR_att\n",
            "R_avg_TOTAL_STR_landed\n",
            "R_longest_win_streak\n",
            "R_losses\n",
            "R_avg_opp_BODY_att\n",
            "R_avg_opp_BODY_landed\n",
            "R_avg_opp_CLINCH_att\n",
            "R_avg_opp_CLINCH_landed\n",
            "R_avg_opp_DISTANCE_att\n",
            "R_avg_opp_DISTANCE_landed\n",
            "R_avg_opp_GROUND_att\n",
            "R_avg_opp_GROUND_landed\n",
            "R_avg_opp_HEAD_att\n",
            "R_avg_opp_HEAD_landed\n",
            "R_avg_opp_KD\n",
            "R_avg_opp_LEG_att\n",
            "R_avg_opp_LEG_landed\n",
            "R_avg_opp_PASS\n",
            "R_avg_opp_REV\n",
            "R_avg_opp_SIG_STR_att\n",
            "R_avg_opp_SIG_STR_landed\n",
            "R_avg_opp_SIG_STR_pct\n",
            "R_avg_opp_SUB_ATT\n",
            "R_avg_opp_TD_att\n",
            "R_avg_opp_TD_landed\n",
            "R_avg_opp_TD_pct\n",
            "R_avg_opp_TOTAL_STR_att\n",
            "R_avg_opp_TOTAL_STR_landed\n",
            "R_total_rounds_fought\n",
            "R_total_time_fought(seconds)\n",
            "R_total_title_bouts\n",
            "R_win_by_Decision_Majority\n",
            "R_win_by_Decision_Split\n",
            "R_win_by_Decision_Unanimous\n",
            "R_win_by_KO/TKO\n",
            "R_win_by_Submission\n",
            "R_win_by_TKO_Doctor_Stoppage\n",
            "R_wins\n",
            "R_Stance\n",
            "R_Height_cms\n",
            "R_Reach_cms\n",
            "R_Weight_lbs\n",
            "B_age\n",
            "R_age\n"
          ]
        }
      ]
    },
    {
      "cell_type": "code",
      "metadata": {
        "colab": {
          "base_uri": "https://localhost:8080/"
        },
        "id": "1MZ7XYP-HPng",
        "outputId": "ee505c3e-91b8-4ec6-84ca-39b45be2dc6b"
      },
      "source": [
        "# columns\n",
        "print(\"Number of columns:\", len(df.columns))"
      ],
      "execution_count": 7,
      "outputs": [
        {
          "output_type": "stream",
          "name": "stdout",
          "text": [
            "Number of columns: 145\n"
          ]
        }
      ]
    },
    {
      "cell_type": "code",
      "source": [
        "df"
      ],
      "metadata": {
        "colab": {
          "base_uri": "https://localhost:8080/",
          "height": 834
        },
        "id": "wzzwkLw50fni",
        "outputId": "5d12dc4e-f840-4999-fe5a-2d65cf0ba7a7"
      },
      "execution_count": 8,
      "outputs": [
        {
          "output_type": "execute_result",
          "data": {
            "text/html": [
              "\n",
              "  <div id=\"df-1b9fbb21-c6ae-4a0f-9dc1-347a8d381925\">\n",
              "    <div class=\"colab-df-container\">\n",
              "      <div>\n",
              "<style scoped>\n",
              "    .dataframe tbody tr th:only-of-type {\n",
              "        vertical-align: middle;\n",
              "    }\n",
              "\n",
              "    .dataframe tbody tr th {\n",
              "        vertical-align: top;\n",
              "    }\n",
              "\n",
              "    .dataframe thead th {\n",
              "        text-align: right;\n",
              "    }\n",
              "</style>\n",
              "<table border=\"1\" class=\"dataframe\">\n",
              "  <thead>\n",
              "    <tr style=\"text-align: right;\">\n",
              "      <th></th>\n",
              "      <th>R_fighter</th>\n",
              "      <th>B_fighter</th>\n",
              "      <th>Referee</th>\n",
              "      <th>date</th>\n",
              "      <th>location</th>\n",
              "      <th>Winner</th>\n",
              "      <th>title_bout</th>\n",
              "      <th>weight_class</th>\n",
              "      <th>no_of_rounds</th>\n",
              "      <th>B_current_lose_streak</th>\n",
              "      <th>B_current_win_streak</th>\n",
              "      <th>B_draw</th>\n",
              "      <th>B_avg_BODY_att</th>\n",
              "      <th>B_avg_BODY_landed</th>\n",
              "      <th>B_avg_CLINCH_att</th>\n",
              "      <th>B_avg_CLINCH_landed</th>\n",
              "      <th>B_avg_DISTANCE_att</th>\n",
              "      <th>B_avg_DISTANCE_landed</th>\n",
              "      <th>B_avg_GROUND_att</th>\n",
              "      <th>B_avg_GROUND_landed</th>\n",
              "      <th>B_avg_HEAD_att</th>\n",
              "      <th>B_avg_HEAD_landed</th>\n",
              "      <th>B_avg_KD</th>\n",
              "      <th>B_avg_LEG_att</th>\n",
              "      <th>B_avg_LEG_landed</th>\n",
              "      <th>B_avg_PASS</th>\n",
              "      <th>B_avg_REV</th>\n",
              "      <th>B_avg_SIG_STR_att</th>\n",
              "      <th>B_avg_SIG_STR_landed</th>\n",
              "      <th>B_avg_SIG_STR_pct</th>\n",
              "      <th>B_avg_SUB_ATT</th>\n",
              "      <th>B_avg_TD_att</th>\n",
              "      <th>B_avg_TD_landed</th>\n",
              "      <th>B_avg_TD_pct</th>\n",
              "      <th>B_avg_TOTAL_STR_att</th>\n",
              "      <th>B_avg_TOTAL_STR_landed</th>\n",
              "      <th>B_longest_win_streak</th>\n",
              "      <th>B_losses</th>\n",
              "      <th>B_avg_opp_BODY_att</th>\n",
              "      <th>B_avg_opp_BODY_landed</th>\n",
              "      <th>...</th>\n",
              "      <th>R_avg_opp_BODY_att</th>\n",
              "      <th>R_avg_opp_BODY_landed</th>\n",
              "      <th>R_avg_opp_CLINCH_att</th>\n",
              "      <th>R_avg_opp_CLINCH_landed</th>\n",
              "      <th>R_avg_opp_DISTANCE_att</th>\n",
              "      <th>R_avg_opp_DISTANCE_landed</th>\n",
              "      <th>R_avg_opp_GROUND_att</th>\n",
              "      <th>R_avg_opp_GROUND_landed</th>\n",
              "      <th>R_avg_opp_HEAD_att</th>\n",
              "      <th>R_avg_opp_HEAD_landed</th>\n",
              "      <th>R_avg_opp_KD</th>\n",
              "      <th>R_avg_opp_LEG_att</th>\n",
              "      <th>R_avg_opp_LEG_landed</th>\n",
              "      <th>R_avg_opp_PASS</th>\n",
              "      <th>R_avg_opp_REV</th>\n",
              "      <th>R_avg_opp_SIG_STR_att</th>\n",
              "      <th>R_avg_opp_SIG_STR_landed</th>\n",
              "      <th>R_avg_opp_SIG_STR_pct</th>\n",
              "      <th>R_avg_opp_SUB_ATT</th>\n",
              "      <th>R_avg_opp_TD_att</th>\n",
              "      <th>R_avg_opp_TD_landed</th>\n",
              "      <th>R_avg_opp_TD_pct</th>\n",
              "      <th>R_avg_opp_TOTAL_STR_att</th>\n",
              "      <th>R_avg_opp_TOTAL_STR_landed</th>\n",
              "      <th>R_total_rounds_fought</th>\n",
              "      <th>R_total_time_fought(seconds)</th>\n",
              "      <th>R_total_title_bouts</th>\n",
              "      <th>R_win_by_Decision_Majority</th>\n",
              "      <th>R_win_by_Decision_Split</th>\n",
              "      <th>R_win_by_Decision_Unanimous</th>\n",
              "      <th>R_win_by_KO/TKO</th>\n",
              "      <th>R_win_by_Submission</th>\n",
              "      <th>R_win_by_TKO_Doctor_Stoppage</th>\n",
              "      <th>R_wins</th>\n",
              "      <th>R_Stance</th>\n",
              "      <th>R_Height_cms</th>\n",
              "      <th>R_Reach_cms</th>\n",
              "      <th>R_Weight_lbs</th>\n",
              "      <th>B_age</th>\n",
              "      <th>R_age</th>\n",
              "    </tr>\n",
              "  </thead>\n",
              "  <tbody>\n",
              "    <tr>\n",
              "      <th>0</th>\n",
              "      <td>Henry Cejudo</td>\n",
              "      <td>Marlon Moraes</td>\n",
              "      <td>Marc Goddard</td>\n",
              "      <td>2019-06-08</td>\n",
              "      <td>Chicago, Illinois, USA</td>\n",
              "      <td>Red</td>\n",
              "      <td>True</td>\n",
              "      <td>Bantamweight</td>\n",
              "      <td>5</td>\n",
              "      <td>0.0</td>\n",
              "      <td>4.0</td>\n",
              "      <td>0.0</td>\n",
              "      <td>9.200000</td>\n",
              "      <td>6.000000</td>\n",
              "      <td>0.200000</td>\n",
              "      <td>0.000000</td>\n",
              "      <td>62.600000</td>\n",
              "      <td>20.600000</td>\n",
              "      <td>2.600000</td>\n",
              "      <td>2.000000</td>\n",
              "      <td>48.600000</td>\n",
              "      <td>11.200000</td>\n",
              "      <td>0.800000</td>\n",
              "      <td>7.6</td>\n",
              "      <td>5.400000</td>\n",
              "      <td>0.400000</td>\n",
              "      <td>0.000000</td>\n",
              "      <td>65.40</td>\n",
              "      <td>22.600000</td>\n",
              "      <td>0.466000</td>\n",
              "      <td>0.400000</td>\n",
              "      <td>0.80000</td>\n",
              "      <td>0.200000</td>\n",
              "      <td>0.100000</td>\n",
              "      <td>66.400000</td>\n",
              "      <td>23.600000</td>\n",
              "      <td>4.0</td>\n",
              "      <td>1.0</td>\n",
              "      <td>6.400000</td>\n",
              "      <td>4.000000</td>\n",
              "      <td>...</td>\n",
              "      <td>13.300000</td>\n",
              "      <td>8.800000</td>\n",
              "      <td>7.500000</td>\n",
              "      <td>5.100000</td>\n",
              "      <td>90.500000</td>\n",
              "      <td>26.800000</td>\n",
              "      <td>0.800000</td>\n",
              "      <td>0.300000</td>\n",
              "      <td>76.100000</td>\n",
              "      <td>17.300000</td>\n",
              "      <td>0.100000</td>\n",
              "      <td>9.400000</td>\n",
              "      <td>6.100000</td>\n",
              "      <td>0.000000</td>\n",
              "      <td>0.000000</td>\n",
              "      <td>98.800000</td>\n",
              "      <td>32.200000</td>\n",
              "      <td>0.336000</td>\n",
              "      <td>0.000000</td>\n",
              "      <td>0.900000</td>\n",
              "      <td>0.100000</td>\n",
              "      <td>0.050000</td>\n",
              "      <td>110.500000</td>\n",
              "      <td>43.300000</td>\n",
              "      <td>27.0</td>\n",
              "      <td>742.60</td>\n",
              "      <td>3.0</td>\n",
              "      <td>0.0</td>\n",
              "      <td>2.0</td>\n",
              "      <td>4.0</td>\n",
              "      <td>2.0</td>\n",
              "      <td>0.0</td>\n",
              "      <td>0.0</td>\n",
              "      <td>8.0</td>\n",
              "      <td>Orthodox</td>\n",
              "      <td>162.56</td>\n",
              "      <td>162.56</td>\n",
              "      <td>135.0</td>\n",
              "      <td>31.0</td>\n",
              "      <td>32.0</td>\n",
              "    </tr>\n",
              "    <tr>\n",
              "      <th>1</th>\n",
              "      <td>Valentina Shevchenko</td>\n",
              "      <td>Jessica Eye</td>\n",
              "      <td>Robert Madrigal</td>\n",
              "      <td>2019-06-08</td>\n",
              "      <td>Chicago, Illinois, USA</td>\n",
              "      <td>Red</td>\n",
              "      <td>True</td>\n",
              "      <td>Women's Flyweight</td>\n",
              "      <td>5</td>\n",
              "      <td>0.0</td>\n",
              "      <td>3.0</td>\n",
              "      <td>0.0</td>\n",
              "      <td>14.600000</td>\n",
              "      <td>9.100000</td>\n",
              "      <td>11.800000</td>\n",
              "      <td>7.300000</td>\n",
              "      <td>124.700000</td>\n",
              "      <td>42.100000</td>\n",
              "      <td>2.400000</td>\n",
              "      <td>1.900000</td>\n",
              "      <td>112.000000</td>\n",
              "      <td>32.000000</td>\n",
              "      <td>0.000000</td>\n",
              "      <td>12.3</td>\n",
              "      <td>10.200000</td>\n",
              "      <td>0.800000</td>\n",
              "      <td>0.000000</td>\n",
              "      <td>138.90</td>\n",
              "      <td>51.300000</td>\n",
              "      <td>0.399000</td>\n",
              "      <td>0.700000</td>\n",
              "      <td>1.00000</td>\n",
              "      <td>0.500000</td>\n",
              "      <td>0.225000</td>\n",
              "      <td>158.700000</td>\n",
              "      <td>69.600000</td>\n",
              "      <td>3.0</td>\n",
              "      <td>6.0</td>\n",
              "      <td>13.000000</td>\n",
              "      <td>9.300000</td>\n",
              "      <td>...</td>\n",
              "      <td>24.571429</td>\n",
              "      <td>14.142857</td>\n",
              "      <td>10.571429</td>\n",
              "      <td>7.857143</td>\n",
              "      <td>98.571429</td>\n",
              "      <td>32.571429</td>\n",
              "      <td>6.428571</td>\n",
              "      <td>4.285714</td>\n",
              "      <td>61.857143</td>\n",
              "      <td>12.428571</td>\n",
              "      <td>0.000000</td>\n",
              "      <td>29.142857</td>\n",
              "      <td>18.142857</td>\n",
              "      <td>1.142857</td>\n",
              "      <td>0.000000</td>\n",
              "      <td>115.571429</td>\n",
              "      <td>44.714286</td>\n",
              "      <td>0.437143</td>\n",
              "      <td>0.285714</td>\n",
              "      <td>3.285714</td>\n",
              "      <td>0.857143</td>\n",
              "      <td>0.147143</td>\n",
              "      <td>158.142857</td>\n",
              "      <td>82.285714</td>\n",
              "      <td>25.0</td>\n",
              "      <td>1062.00</td>\n",
              "      <td>2.0</td>\n",
              "      <td>0.0</td>\n",
              "      <td>1.0</td>\n",
              "      <td>2.0</td>\n",
              "      <td>0.0</td>\n",
              "      <td>2.0</td>\n",
              "      <td>0.0</td>\n",
              "      <td>5.0</td>\n",
              "      <td>Southpaw</td>\n",
              "      <td>165.10</td>\n",
              "      <td>167.64</td>\n",
              "      <td>125.0</td>\n",
              "      <td>32.0</td>\n",
              "      <td>31.0</td>\n",
              "    </tr>\n",
              "    <tr>\n",
              "      <th>2</th>\n",
              "      <td>Tony Ferguson</td>\n",
              "      <td>Donald Cerrone</td>\n",
              "      <td>Dan Miragliotta</td>\n",
              "      <td>2019-06-08</td>\n",
              "      <td>Chicago, Illinois, USA</td>\n",
              "      <td>Red</td>\n",
              "      <td>False</td>\n",
              "      <td>Lightweight</td>\n",
              "      <td>3</td>\n",
              "      <td>0.0</td>\n",
              "      <td>3.0</td>\n",
              "      <td>0.0</td>\n",
              "      <td>15.354839</td>\n",
              "      <td>11.322581</td>\n",
              "      <td>6.741935</td>\n",
              "      <td>4.387097</td>\n",
              "      <td>84.741935</td>\n",
              "      <td>38.580645</td>\n",
              "      <td>5.516129</td>\n",
              "      <td>3.806452</td>\n",
              "      <td>67.645161</td>\n",
              "      <td>23.258065</td>\n",
              "      <td>0.645161</td>\n",
              "      <td>14.0</td>\n",
              "      <td>12.193548</td>\n",
              "      <td>0.935484</td>\n",
              "      <td>0.096774</td>\n",
              "      <td>97.00</td>\n",
              "      <td>46.774194</td>\n",
              "      <td>0.496129</td>\n",
              "      <td>0.354839</td>\n",
              "      <td>2.16129</td>\n",
              "      <td>0.677419</td>\n",
              "      <td>0.295484</td>\n",
              "      <td>103.709677</td>\n",
              "      <td>52.548387</td>\n",
              "      <td>8.0</td>\n",
              "      <td>8.0</td>\n",
              "      <td>17.903226</td>\n",
              "      <td>11.870968</td>\n",
              "      <td>...</td>\n",
              "      <td>14.466667</td>\n",
              "      <td>8.133333</td>\n",
              "      <td>2.800000</td>\n",
              "      <td>0.733333</td>\n",
              "      <td>91.066667</td>\n",
              "      <td>32.200000</td>\n",
              "      <td>4.866667</td>\n",
              "      <td>2.800000</td>\n",
              "      <td>78.266667</td>\n",
              "      <td>23.200000</td>\n",
              "      <td>0.266667</td>\n",
              "      <td>6.000000</td>\n",
              "      <td>4.400000</td>\n",
              "      <td>0.333333</td>\n",
              "      <td>0.133333</td>\n",
              "      <td>98.733333</td>\n",
              "      <td>35.733333</td>\n",
              "      <td>0.340000</td>\n",
              "      <td>0.066667</td>\n",
              "      <td>2.866667</td>\n",
              "      <td>0.666667</td>\n",
              "      <td>0.131333</td>\n",
              "      <td>102.133333</td>\n",
              "      <td>38.600000</td>\n",
              "      <td>33.0</td>\n",
              "      <td>604.40</td>\n",
              "      <td>2.0</td>\n",
              "      <td>0.0</td>\n",
              "      <td>1.0</td>\n",
              "      <td>3.0</td>\n",
              "      <td>3.0</td>\n",
              "      <td>6.0</td>\n",
              "      <td>1.0</td>\n",
              "      <td>14.0</td>\n",
              "      <td>Orthodox</td>\n",
              "      <td>180.34</td>\n",
              "      <td>193.04</td>\n",
              "      <td>155.0</td>\n",
              "      <td>36.0</td>\n",
              "      <td>35.0</td>\n",
              "    </tr>\n",
              "    <tr>\n",
              "      <th>3</th>\n",
              "      <td>Jimmie Rivera</td>\n",
              "      <td>Petr Yan</td>\n",
              "      <td>Kevin MacDonald</td>\n",
              "      <td>2019-06-08</td>\n",
              "      <td>Chicago, Illinois, USA</td>\n",
              "      <td>Blue</td>\n",
              "      <td>False</td>\n",
              "      <td>Bantamweight</td>\n",
              "      <td>3</td>\n",
              "      <td>0.0</td>\n",
              "      <td>4.0</td>\n",
              "      <td>0.0</td>\n",
              "      <td>17.000000</td>\n",
              "      <td>14.000000</td>\n",
              "      <td>13.750000</td>\n",
              "      <td>11.000000</td>\n",
              "      <td>109.500000</td>\n",
              "      <td>48.750000</td>\n",
              "      <td>13.000000</td>\n",
              "      <td>10.500000</td>\n",
              "      <td>116.250000</td>\n",
              "      <td>53.750000</td>\n",
              "      <td>0.500000</td>\n",
              "      <td>3.0</td>\n",
              "      <td>2.500000</td>\n",
              "      <td>0.500000</td>\n",
              "      <td>0.250000</td>\n",
              "      <td>136.25</td>\n",
              "      <td>70.250000</td>\n",
              "      <td>0.550000</td>\n",
              "      <td>0.250000</td>\n",
              "      <td>2.50000</td>\n",
              "      <td>1.250000</td>\n",
              "      <td>0.287500</td>\n",
              "      <td>154.750000</td>\n",
              "      <td>86.750000</td>\n",
              "      <td>4.0</td>\n",
              "      <td>0.0</td>\n",
              "      <td>12.250000</td>\n",
              "      <td>6.000000</td>\n",
              "      <td>...</td>\n",
              "      <td>20.250000</td>\n",
              "      <td>13.375000</td>\n",
              "      <td>6.875000</td>\n",
              "      <td>5.625000</td>\n",
              "      <td>103.125000</td>\n",
              "      <td>38.500000</td>\n",
              "      <td>0.875000</td>\n",
              "      <td>0.750000</td>\n",
              "      <td>77.375000</td>\n",
              "      <td>20.375000</td>\n",
              "      <td>0.125000</td>\n",
              "      <td>13.250000</td>\n",
              "      <td>11.125000</td>\n",
              "      <td>0.000000</td>\n",
              "      <td>0.000000</td>\n",
              "      <td>110.875000</td>\n",
              "      <td>44.875000</td>\n",
              "      <td>0.446250</td>\n",
              "      <td>0.000000</td>\n",
              "      <td>2.375000</td>\n",
              "      <td>0.000000</td>\n",
              "      <td>0.000000</td>\n",
              "      <td>115.125000</td>\n",
              "      <td>48.875000</td>\n",
              "      <td>20.0</td>\n",
              "      <td>690.25</td>\n",
              "      <td>0.0</td>\n",
              "      <td>0.0</td>\n",
              "      <td>1.0</td>\n",
              "      <td>4.0</td>\n",
              "      <td>1.0</td>\n",
              "      <td>0.0</td>\n",
              "      <td>0.0</td>\n",
              "      <td>6.0</td>\n",
              "      <td>Orthodox</td>\n",
              "      <td>162.56</td>\n",
              "      <td>172.72</td>\n",
              "      <td>135.0</td>\n",
              "      <td>26.0</td>\n",
              "      <td>29.0</td>\n",
              "    </tr>\n",
              "    <tr>\n",
              "      <th>4</th>\n",
              "      <td>Tai Tuivasa</td>\n",
              "      <td>Blagoy Ivanov</td>\n",
              "      <td>Dan Miragliotta</td>\n",
              "      <td>2019-06-08</td>\n",
              "      <td>Chicago, Illinois, USA</td>\n",
              "      <td>Blue</td>\n",
              "      <td>False</td>\n",
              "      <td>Heavyweight</td>\n",
              "      <td>3</td>\n",
              "      <td>0.0</td>\n",
              "      <td>1.0</td>\n",
              "      <td>0.0</td>\n",
              "      <td>17.000000</td>\n",
              "      <td>14.500000</td>\n",
              "      <td>2.500000</td>\n",
              "      <td>2.000000</td>\n",
              "      <td>201.000000</td>\n",
              "      <td>59.500000</td>\n",
              "      <td>0.000000</td>\n",
              "      <td>0.000000</td>\n",
              "      <td>184.500000</td>\n",
              "      <td>45.000000</td>\n",
              "      <td>0.000000</td>\n",
              "      <td>2.0</td>\n",
              "      <td>2.000000</td>\n",
              "      <td>0.000000</td>\n",
              "      <td>0.000000</td>\n",
              "      <td>203.50</td>\n",
              "      <td>61.500000</td>\n",
              "      <td>0.310000</td>\n",
              "      <td>0.000000</td>\n",
              "      <td>0.00000</td>\n",
              "      <td>0.000000</td>\n",
              "      <td>0.000000</td>\n",
              "      <td>204.000000</td>\n",
              "      <td>62.000000</td>\n",
              "      <td>1.0</td>\n",
              "      <td>1.0</td>\n",
              "      <td>42.500000</td>\n",
              "      <td>23.500000</td>\n",
              "      <td>...</td>\n",
              "      <td>6.250000</td>\n",
              "      <td>4.750000</td>\n",
              "      <td>4.500000</td>\n",
              "      <td>3.500000</td>\n",
              "      <td>42.750000</td>\n",
              "      <td>16.250000</td>\n",
              "      <td>7.750000</td>\n",
              "      <td>2.750000</td>\n",
              "      <td>43.250000</td>\n",
              "      <td>14.000000</td>\n",
              "      <td>0.250000</td>\n",
              "      <td>5.500000</td>\n",
              "      <td>3.750000</td>\n",
              "      <td>0.750000</td>\n",
              "      <td>0.000000</td>\n",
              "      <td>55.000000</td>\n",
              "      <td>22.500000</td>\n",
              "      <td>0.397500</td>\n",
              "      <td>0.000000</td>\n",
              "      <td>1.000000</td>\n",
              "      <td>0.000000</td>\n",
              "      <td>0.000000</td>\n",
              "      <td>60.500000</td>\n",
              "      <td>27.750000</td>\n",
              "      <td>7.0</td>\n",
              "      <td>440.75</td>\n",
              "      <td>0.0</td>\n",
              "      <td>0.0</td>\n",
              "      <td>0.0</td>\n",
              "      <td>1.0</td>\n",
              "      <td>2.0</td>\n",
              "      <td>0.0</td>\n",
              "      <td>0.0</td>\n",
              "      <td>3.0</td>\n",
              "      <td>Southpaw</td>\n",
              "      <td>187.96</td>\n",
              "      <td>190.50</td>\n",
              "      <td>264.0</td>\n",
              "      <td>32.0</td>\n",
              "      <td>26.0</td>\n",
              "    </tr>\n",
              "    <tr>\n",
              "      <th>...</th>\n",
              "      <td>...</td>\n",
              "      <td>...</td>\n",
              "      <td>...</td>\n",
              "      <td>...</td>\n",
              "      <td>...</td>\n",
              "      <td>...</td>\n",
              "      <td>...</td>\n",
              "      <td>...</td>\n",
              "      <td>...</td>\n",
              "      <td>...</td>\n",
              "      <td>...</td>\n",
              "      <td>...</td>\n",
              "      <td>...</td>\n",
              "      <td>...</td>\n",
              "      <td>...</td>\n",
              "      <td>...</td>\n",
              "      <td>...</td>\n",
              "      <td>...</td>\n",
              "      <td>...</td>\n",
              "      <td>...</td>\n",
              "      <td>...</td>\n",
              "      <td>...</td>\n",
              "      <td>...</td>\n",
              "      <td>...</td>\n",
              "      <td>...</td>\n",
              "      <td>...</td>\n",
              "      <td>...</td>\n",
              "      <td>...</td>\n",
              "      <td>...</td>\n",
              "      <td>...</td>\n",
              "      <td>...</td>\n",
              "      <td>...</td>\n",
              "      <td>...</td>\n",
              "      <td>...</td>\n",
              "      <td>...</td>\n",
              "      <td>...</td>\n",
              "      <td>...</td>\n",
              "      <td>...</td>\n",
              "      <td>...</td>\n",
              "      <td>...</td>\n",
              "      <td>...</td>\n",
              "      <td>...</td>\n",
              "      <td>...</td>\n",
              "      <td>...</td>\n",
              "      <td>...</td>\n",
              "      <td>...</td>\n",
              "      <td>...</td>\n",
              "      <td>...</td>\n",
              "      <td>...</td>\n",
              "      <td>...</td>\n",
              "      <td>...</td>\n",
              "      <td>...</td>\n",
              "      <td>...</td>\n",
              "      <td>...</td>\n",
              "      <td>...</td>\n",
              "      <td>...</td>\n",
              "      <td>...</td>\n",
              "      <td>...</td>\n",
              "      <td>...</td>\n",
              "      <td>...</td>\n",
              "      <td>...</td>\n",
              "      <td>...</td>\n",
              "      <td>...</td>\n",
              "      <td>...</td>\n",
              "      <td>...</td>\n",
              "      <td>...</td>\n",
              "      <td>...</td>\n",
              "      <td>...</td>\n",
              "      <td>...</td>\n",
              "      <td>...</td>\n",
              "      <td>...</td>\n",
              "      <td>...</td>\n",
              "      <td>...</td>\n",
              "      <td>...</td>\n",
              "      <td>...</td>\n",
              "      <td>...</td>\n",
              "      <td>...</td>\n",
              "      <td>...</td>\n",
              "      <td>...</td>\n",
              "      <td>...</td>\n",
              "      <td>...</td>\n",
              "    </tr>\n",
              "    <tr>\n",
              "      <th>5139</th>\n",
              "      <td>Gerard Gordeau</td>\n",
              "      <td>Kevin Rosier</td>\n",
              "      <td>Joao Alberto Barreto</td>\n",
              "      <td>1993-11-12</td>\n",
              "      <td>Denver, Colorado, USA</td>\n",
              "      <td>Red</td>\n",
              "      <td>False</td>\n",
              "      <td>Open Weight</td>\n",
              "      <td>1</td>\n",
              "      <td>0.0</td>\n",
              "      <td>1.0</td>\n",
              "      <td>0.0</td>\n",
              "      <td>4.000000</td>\n",
              "      <td>3.000000</td>\n",
              "      <td>9.000000</td>\n",
              "      <td>4.000000</td>\n",
              "      <td>10.000000</td>\n",
              "      <td>4.000000</td>\n",
              "      <td>8.000000</td>\n",
              "      <td>7.000000</td>\n",
              "      <td>23.000000</td>\n",
              "      <td>12.000000</td>\n",
              "      <td>2.000000</td>\n",
              "      <td>0.0</td>\n",
              "      <td>0.000000</td>\n",
              "      <td>0.000000</td>\n",
              "      <td>0.000000</td>\n",
              "      <td>27.00</td>\n",
              "      <td>15.000000</td>\n",
              "      <td>0.550000</td>\n",
              "      <td>0.000000</td>\n",
              "      <td>0.00000</td>\n",
              "      <td>0.000000</td>\n",
              "      <td>0.000000</td>\n",
              "      <td>53.000000</td>\n",
              "      <td>38.000000</td>\n",
              "      <td>1.0</td>\n",
              "      <td>0.0</td>\n",
              "      <td>6.000000</td>\n",
              "      <td>3.000000</td>\n",
              "      <td>...</td>\n",
              "      <td>0.000000</td>\n",
              "      <td>0.000000</td>\n",
              "      <td>0.000000</td>\n",
              "      <td>0.000000</td>\n",
              "      <td>1.000000</td>\n",
              "      <td>0.000000</td>\n",
              "      <td>0.000000</td>\n",
              "      <td>0.000000</td>\n",
              "      <td>1.000000</td>\n",
              "      <td>0.000000</td>\n",
              "      <td>0.000000</td>\n",
              "      <td>0.000000</td>\n",
              "      <td>0.000000</td>\n",
              "      <td>0.000000</td>\n",
              "      <td>0.000000</td>\n",
              "      <td>1.000000</td>\n",
              "      <td>0.000000</td>\n",
              "      <td>0.000000</td>\n",
              "      <td>0.000000</td>\n",
              "      <td>1.000000</td>\n",
              "      <td>0.000000</td>\n",
              "      <td>0.000000</td>\n",
              "      <td>1.000000</td>\n",
              "      <td>0.000000</td>\n",
              "      <td>1.0</td>\n",
              "      <td>26.00</td>\n",
              "      <td>0.0</td>\n",
              "      <td>0.0</td>\n",
              "      <td>0.0</td>\n",
              "      <td>0.0</td>\n",
              "      <td>1.0</td>\n",
              "      <td>0.0</td>\n",
              "      <td>0.0</td>\n",
              "      <td>1.0</td>\n",
              "      <td>Orthodox</td>\n",
              "      <td>195.58</td>\n",
              "      <td>NaN</td>\n",
              "      <td>216.0</td>\n",
              "      <td>NaN</td>\n",
              "      <td>34.0</td>\n",
              "    </tr>\n",
              "    <tr>\n",
              "      <th>5140</th>\n",
              "      <td>Ken Shamrock</td>\n",
              "      <td>Patrick Smith</td>\n",
              "      <td>Joao Alberto Barreto</td>\n",
              "      <td>1993-11-12</td>\n",
              "      <td>Denver, Colorado, USA</td>\n",
              "      <td>Red</td>\n",
              "      <td>False</td>\n",
              "      <td>Open Weight</td>\n",
              "      <td>1</td>\n",
              "      <td>0.0</td>\n",
              "      <td>0.0</td>\n",
              "      <td>0.0</td>\n",
              "      <td>NaN</td>\n",
              "      <td>NaN</td>\n",
              "      <td>NaN</td>\n",
              "      <td>NaN</td>\n",
              "      <td>NaN</td>\n",
              "      <td>NaN</td>\n",
              "      <td>NaN</td>\n",
              "      <td>NaN</td>\n",
              "      <td>NaN</td>\n",
              "      <td>NaN</td>\n",
              "      <td>NaN</td>\n",
              "      <td>NaN</td>\n",
              "      <td>NaN</td>\n",
              "      <td>NaN</td>\n",
              "      <td>NaN</td>\n",
              "      <td>NaN</td>\n",
              "      <td>NaN</td>\n",
              "      <td>NaN</td>\n",
              "      <td>NaN</td>\n",
              "      <td>NaN</td>\n",
              "      <td>NaN</td>\n",
              "      <td>NaN</td>\n",
              "      <td>NaN</td>\n",
              "      <td>NaN</td>\n",
              "      <td>0.0</td>\n",
              "      <td>0.0</td>\n",
              "      <td>NaN</td>\n",
              "      <td>NaN</td>\n",
              "      <td>...</td>\n",
              "      <td>NaN</td>\n",
              "      <td>NaN</td>\n",
              "      <td>NaN</td>\n",
              "      <td>NaN</td>\n",
              "      <td>NaN</td>\n",
              "      <td>NaN</td>\n",
              "      <td>NaN</td>\n",
              "      <td>NaN</td>\n",
              "      <td>NaN</td>\n",
              "      <td>NaN</td>\n",
              "      <td>NaN</td>\n",
              "      <td>NaN</td>\n",
              "      <td>NaN</td>\n",
              "      <td>NaN</td>\n",
              "      <td>NaN</td>\n",
              "      <td>NaN</td>\n",
              "      <td>NaN</td>\n",
              "      <td>NaN</td>\n",
              "      <td>NaN</td>\n",
              "      <td>NaN</td>\n",
              "      <td>NaN</td>\n",
              "      <td>NaN</td>\n",
              "      <td>NaN</td>\n",
              "      <td>NaN</td>\n",
              "      <td>0.0</td>\n",
              "      <td>NaN</td>\n",
              "      <td>0.0</td>\n",
              "      <td>0.0</td>\n",
              "      <td>0.0</td>\n",
              "      <td>0.0</td>\n",
              "      <td>0.0</td>\n",
              "      <td>0.0</td>\n",
              "      <td>0.0</td>\n",
              "      <td>0.0</td>\n",
              "      <td>Orthodox</td>\n",
              "      <td>185.42</td>\n",
              "      <td>182.88</td>\n",
              "      <td>205.0</td>\n",
              "      <td>30.0</td>\n",
              "      <td>29.0</td>\n",
              "    </tr>\n",
              "    <tr>\n",
              "      <th>5141</th>\n",
              "      <td>Royce Gracie</td>\n",
              "      <td>Art Jimmerson</td>\n",
              "      <td>Joao Alberto Barreto</td>\n",
              "      <td>1993-11-12</td>\n",
              "      <td>Denver, Colorado, USA</td>\n",
              "      <td>Red</td>\n",
              "      <td>False</td>\n",
              "      <td>Open Weight</td>\n",
              "      <td>1</td>\n",
              "      <td>0.0</td>\n",
              "      <td>0.0</td>\n",
              "      <td>0.0</td>\n",
              "      <td>NaN</td>\n",
              "      <td>NaN</td>\n",
              "      <td>NaN</td>\n",
              "      <td>NaN</td>\n",
              "      <td>NaN</td>\n",
              "      <td>NaN</td>\n",
              "      <td>NaN</td>\n",
              "      <td>NaN</td>\n",
              "      <td>NaN</td>\n",
              "      <td>NaN</td>\n",
              "      <td>NaN</td>\n",
              "      <td>NaN</td>\n",
              "      <td>NaN</td>\n",
              "      <td>NaN</td>\n",
              "      <td>NaN</td>\n",
              "      <td>NaN</td>\n",
              "      <td>NaN</td>\n",
              "      <td>NaN</td>\n",
              "      <td>NaN</td>\n",
              "      <td>NaN</td>\n",
              "      <td>NaN</td>\n",
              "      <td>NaN</td>\n",
              "      <td>NaN</td>\n",
              "      <td>NaN</td>\n",
              "      <td>0.0</td>\n",
              "      <td>0.0</td>\n",
              "      <td>NaN</td>\n",
              "      <td>NaN</td>\n",
              "      <td>...</td>\n",
              "      <td>NaN</td>\n",
              "      <td>NaN</td>\n",
              "      <td>NaN</td>\n",
              "      <td>NaN</td>\n",
              "      <td>NaN</td>\n",
              "      <td>NaN</td>\n",
              "      <td>NaN</td>\n",
              "      <td>NaN</td>\n",
              "      <td>NaN</td>\n",
              "      <td>NaN</td>\n",
              "      <td>NaN</td>\n",
              "      <td>NaN</td>\n",
              "      <td>NaN</td>\n",
              "      <td>NaN</td>\n",
              "      <td>NaN</td>\n",
              "      <td>NaN</td>\n",
              "      <td>NaN</td>\n",
              "      <td>NaN</td>\n",
              "      <td>NaN</td>\n",
              "      <td>NaN</td>\n",
              "      <td>NaN</td>\n",
              "      <td>NaN</td>\n",
              "      <td>NaN</td>\n",
              "      <td>NaN</td>\n",
              "      <td>0.0</td>\n",
              "      <td>NaN</td>\n",
              "      <td>0.0</td>\n",
              "      <td>0.0</td>\n",
              "      <td>0.0</td>\n",
              "      <td>0.0</td>\n",
              "      <td>0.0</td>\n",
              "      <td>0.0</td>\n",
              "      <td>0.0</td>\n",
              "      <td>0.0</td>\n",
              "      <td>Southpaw</td>\n",
              "      <td>185.42</td>\n",
              "      <td>NaN</td>\n",
              "      <td>175.0</td>\n",
              "      <td>30.0</td>\n",
              "      <td>26.0</td>\n",
              "    </tr>\n",
              "    <tr>\n",
              "      <th>5142</th>\n",
              "      <td>Kevin Rosier</td>\n",
              "      <td>Zane Frazier</td>\n",
              "      <td>Joao Alberto Barreto</td>\n",
              "      <td>1993-11-12</td>\n",
              "      <td>Denver, Colorado, USA</td>\n",
              "      <td>Red</td>\n",
              "      <td>False</td>\n",
              "      <td>Open Weight</td>\n",
              "      <td>1</td>\n",
              "      <td>0.0</td>\n",
              "      <td>0.0</td>\n",
              "      <td>0.0</td>\n",
              "      <td>NaN</td>\n",
              "      <td>NaN</td>\n",
              "      <td>NaN</td>\n",
              "      <td>NaN</td>\n",
              "      <td>NaN</td>\n",
              "      <td>NaN</td>\n",
              "      <td>NaN</td>\n",
              "      <td>NaN</td>\n",
              "      <td>NaN</td>\n",
              "      <td>NaN</td>\n",
              "      <td>NaN</td>\n",
              "      <td>NaN</td>\n",
              "      <td>NaN</td>\n",
              "      <td>NaN</td>\n",
              "      <td>NaN</td>\n",
              "      <td>NaN</td>\n",
              "      <td>NaN</td>\n",
              "      <td>NaN</td>\n",
              "      <td>NaN</td>\n",
              "      <td>NaN</td>\n",
              "      <td>NaN</td>\n",
              "      <td>NaN</td>\n",
              "      <td>NaN</td>\n",
              "      <td>NaN</td>\n",
              "      <td>0.0</td>\n",
              "      <td>0.0</td>\n",
              "      <td>NaN</td>\n",
              "      <td>NaN</td>\n",
              "      <td>...</td>\n",
              "      <td>NaN</td>\n",
              "      <td>NaN</td>\n",
              "      <td>NaN</td>\n",
              "      <td>NaN</td>\n",
              "      <td>NaN</td>\n",
              "      <td>NaN</td>\n",
              "      <td>NaN</td>\n",
              "      <td>NaN</td>\n",
              "      <td>NaN</td>\n",
              "      <td>NaN</td>\n",
              "      <td>NaN</td>\n",
              "      <td>NaN</td>\n",
              "      <td>NaN</td>\n",
              "      <td>NaN</td>\n",
              "      <td>NaN</td>\n",
              "      <td>NaN</td>\n",
              "      <td>NaN</td>\n",
              "      <td>NaN</td>\n",
              "      <td>NaN</td>\n",
              "      <td>NaN</td>\n",
              "      <td>NaN</td>\n",
              "      <td>NaN</td>\n",
              "      <td>NaN</td>\n",
              "      <td>NaN</td>\n",
              "      <td>0.0</td>\n",
              "      <td>NaN</td>\n",
              "      <td>0.0</td>\n",
              "      <td>0.0</td>\n",
              "      <td>0.0</td>\n",
              "      <td>0.0</td>\n",
              "      <td>0.0</td>\n",
              "      <td>0.0</td>\n",
              "      <td>0.0</td>\n",
              "      <td>0.0</td>\n",
              "      <td>Orthodox</td>\n",
              "      <td>193.04</td>\n",
              "      <td>NaN</td>\n",
              "      <td>275.0</td>\n",
              "      <td>NaN</td>\n",
              "      <td>NaN</td>\n",
              "    </tr>\n",
              "    <tr>\n",
              "      <th>5143</th>\n",
              "      <td>Gerard Gordeau</td>\n",
              "      <td>Teila Tuli</td>\n",
              "      <td>Joao Alberto Barreto</td>\n",
              "      <td>1993-11-12</td>\n",
              "      <td>Denver, Colorado, USA</td>\n",
              "      <td>Red</td>\n",
              "      <td>False</td>\n",
              "      <td>Open Weight</td>\n",
              "      <td>1</td>\n",
              "      <td>0.0</td>\n",
              "      <td>0.0</td>\n",
              "      <td>0.0</td>\n",
              "      <td>NaN</td>\n",
              "      <td>NaN</td>\n",
              "      <td>NaN</td>\n",
              "      <td>NaN</td>\n",
              "      <td>NaN</td>\n",
              "      <td>NaN</td>\n",
              "      <td>NaN</td>\n",
              "      <td>NaN</td>\n",
              "      <td>NaN</td>\n",
              "      <td>NaN</td>\n",
              "      <td>NaN</td>\n",
              "      <td>NaN</td>\n",
              "      <td>NaN</td>\n",
              "      <td>NaN</td>\n",
              "      <td>NaN</td>\n",
              "      <td>NaN</td>\n",
              "      <td>NaN</td>\n",
              "      <td>NaN</td>\n",
              "      <td>NaN</td>\n",
              "      <td>NaN</td>\n",
              "      <td>NaN</td>\n",
              "      <td>NaN</td>\n",
              "      <td>NaN</td>\n",
              "      <td>NaN</td>\n",
              "      <td>0.0</td>\n",
              "      <td>0.0</td>\n",
              "      <td>NaN</td>\n",
              "      <td>NaN</td>\n",
              "      <td>...</td>\n",
              "      <td>NaN</td>\n",
              "      <td>NaN</td>\n",
              "      <td>NaN</td>\n",
              "      <td>NaN</td>\n",
              "      <td>NaN</td>\n",
              "      <td>NaN</td>\n",
              "      <td>NaN</td>\n",
              "      <td>NaN</td>\n",
              "      <td>NaN</td>\n",
              "      <td>NaN</td>\n",
              "      <td>NaN</td>\n",
              "      <td>NaN</td>\n",
              "      <td>NaN</td>\n",
              "      <td>NaN</td>\n",
              "      <td>NaN</td>\n",
              "      <td>NaN</td>\n",
              "      <td>NaN</td>\n",
              "      <td>NaN</td>\n",
              "      <td>NaN</td>\n",
              "      <td>NaN</td>\n",
              "      <td>NaN</td>\n",
              "      <td>NaN</td>\n",
              "      <td>NaN</td>\n",
              "      <td>NaN</td>\n",
              "      <td>0.0</td>\n",
              "      <td>NaN</td>\n",
              "      <td>0.0</td>\n",
              "      <td>0.0</td>\n",
              "      <td>0.0</td>\n",
              "      <td>0.0</td>\n",
              "      <td>0.0</td>\n",
              "      <td>0.0</td>\n",
              "      <td>0.0</td>\n",
              "      <td>0.0</td>\n",
              "      <td>Orthodox</td>\n",
              "      <td>195.58</td>\n",
              "      <td>NaN</td>\n",
              "      <td>216.0</td>\n",
              "      <td>24.0</td>\n",
              "      <td>34.0</td>\n",
              "    </tr>\n",
              "  </tbody>\n",
              "</table>\n",
              "<p>5144 rows × 145 columns</p>\n",
              "</div>\n",
              "      <button class=\"colab-df-convert\" onclick=\"convertToInteractive('df-1b9fbb21-c6ae-4a0f-9dc1-347a8d381925')\"\n",
              "              title=\"Convert this dataframe to an interactive table.\"\n",
              "              style=\"display:none;\">\n",
              "        \n",
              "  <svg xmlns=\"http://www.w3.org/2000/svg\" height=\"24px\"viewBox=\"0 0 24 24\"\n",
              "       width=\"24px\">\n",
              "    <path d=\"M0 0h24v24H0V0z\" fill=\"none\"/>\n",
              "    <path d=\"M18.56 5.44l.94 2.06.94-2.06 2.06-.94-2.06-.94-.94-2.06-.94 2.06-2.06.94zm-11 1L8.5 8.5l.94-2.06 2.06-.94-2.06-.94L8.5 2.5l-.94 2.06-2.06.94zm10 10l.94 2.06.94-2.06 2.06-.94-2.06-.94-.94-2.06-.94 2.06-2.06.94z\"/><path d=\"M17.41 7.96l-1.37-1.37c-.4-.4-.92-.59-1.43-.59-.52 0-1.04.2-1.43.59L10.3 9.45l-7.72 7.72c-.78.78-.78 2.05 0 2.83L4 21.41c.39.39.9.59 1.41.59.51 0 1.02-.2 1.41-.59l7.78-7.78 2.81-2.81c.8-.78.8-2.07 0-2.86zM5.41 20L4 18.59l7.72-7.72 1.47 1.35L5.41 20z\"/>\n",
              "  </svg>\n",
              "      </button>\n",
              "      \n",
              "  <style>\n",
              "    .colab-df-container {\n",
              "      display:flex;\n",
              "      flex-wrap:wrap;\n",
              "      gap: 12px;\n",
              "    }\n",
              "\n",
              "    .colab-df-convert {\n",
              "      background-color: #E8F0FE;\n",
              "      border: none;\n",
              "      border-radius: 50%;\n",
              "      cursor: pointer;\n",
              "      display: none;\n",
              "      fill: #1967D2;\n",
              "      height: 32px;\n",
              "      padding: 0 0 0 0;\n",
              "      width: 32px;\n",
              "    }\n",
              "\n",
              "    .colab-df-convert:hover {\n",
              "      background-color: #E2EBFA;\n",
              "      box-shadow: 0px 1px 2px rgba(60, 64, 67, 0.3), 0px 1px 3px 1px rgba(60, 64, 67, 0.15);\n",
              "      fill: #174EA6;\n",
              "    }\n",
              "\n",
              "    [theme=dark] .colab-df-convert {\n",
              "      background-color: #3B4455;\n",
              "      fill: #D2E3FC;\n",
              "    }\n",
              "\n",
              "    [theme=dark] .colab-df-convert:hover {\n",
              "      background-color: #434B5C;\n",
              "      box-shadow: 0px 1px 3px 1px rgba(0, 0, 0, 0.15);\n",
              "      filter: drop-shadow(0px 1px 2px rgba(0, 0, 0, 0.3));\n",
              "      fill: #FFFFFF;\n",
              "    }\n",
              "  </style>\n",
              "\n",
              "      <script>\n",
              "        const buttonEl =\n",
              "          document.querySelector('#df-1b9fbb21-c6ae-4a0f-9dc1-347a8d381925 button.colab-df-convert');\n",
              "        buttonEl.style.display =\n",
              "          google.colab.kernel.accessAllowed ? 'block' : 'none';\n",
              "\n",
              "        async function convertToInteractive(key) {\n",
              "          const element = document.querySelector('#df-1b9fbb21-c6ae-4a0f-9dc1-347a8d381925');\n",
              "          const dataTable =\n",
              "            await google.colab.kernel.invokeFunction('convertToInteractive',\n",
              "                                                     [key], {});\n",
              "          if (!dataTable) return;\n",
              "\n",
              "          const docLinkHtml = 'Like what you see? Visit the ' +\n",
              "            '<a target=\"_blank\" href=https://colab.research.google.com/notebooks/data_table.ipynb>data table notebook</a>'\n",
              "            + ' to learn more about interactive tables.';\n",
              "          element.innerHTML = '';\n",
              "          dataTable['output_type'] = 'display_data';\n",
              "          await google.colab.output.renderOutput(dataTable, element);\n",
              "          const docLink = document.createElement('div');\n",
              "          docLink.innerHTML = docLinkHtml;\n",
              "          element.appendChild(docLink);\n",
              "        }\n",
              "      </script>\n",
              "    </div>\n",
              "  </div>\n",
              "  "
            ],
            "text/plain": [
              "                 R_fighter       B_fighter  ... B_age R_age\n",
              "0             Henry Cejudo   Marlon Moraes  ...  31.0  32.0\n",
              "1     Valentina Shevchenko     Jessica Eye  ...  32.0  31.0\n",
              "2            Tony Ferguson  Donald Cerrone  ...  36.0  35.0\n",
              "3            Jimmie Rivera        Petr Yan  ...  26.0  29.0\n",
              "4              Tai Tuivasa   Blagoy Ivanov  ...  32.0  26.0\n",
              "...                    ...             ...  ...   ...   ...\n",
              "5139        Gerard Gordeau    Kevin Rosier  ...   NaN  34.0\n",
              "5140          Ken Shamrock   Patrick Smith  ...  30.0  29.0\n",
              "5141          Royce Gracie   Art Jimmerson  ...  30.0  26.0\n",
              "5142          Kevin Rosier    Zane Frazier  ...   NaN   NaN\n",
              "5143        Gerard Gordeau      Teila Tuli  ...  24.0  34.0\n",
              "\n",
              "[5144 rows x 145 columns]"
            ]
          },
          "metadata": {},
          "execution_count": 8
        }
      ]
    },
    {
      "cell_type": "markdown",
      "metadata": {
        "id": "wSWI5rRq0Rp1"
      },
      "source": [
        "As per the dataset notes: \n",
        "- All of the stats are about the fights before this one. The Winner is the target and is the only indicator of who won the match, there is no information on how (no fun).\n",
        "- All stats are cumulative for the fighters previous fights."
      ]
    },
    {
      "cell_type": "code",
      "metadata": {
        "id": "Cmd8mXZjUhkd"
      },
      "source": [
        "# This function is fun to use but not really needed in the rest of the notebook\n",
        "def get_all_fighters_fights(fighter_name):\n",
        "  return df[ (df['R_fighter']==fighter_name) | (df['B_fighter']==fighter_name)]"
      ],
      "execution_count": 9,
      "outputs": []
    },
    {
      "cell_type": "code",
      "metadata": {
        "colab": {
          "base_uri": "https://localhost:8080/"
        },
        "id": "JbdHs0Ouih6r",
        "outputId": "0c47e19d-9edd-49db-8060-8e33d70f4d2f"
      },
      "source": [
        "# Get number of records/fights in the dataframe\n",
        "total_fights = len(df.index)\n",
        "total_fights"
      ],
      "execution_count": 10,
      "outputs": [
        {
          "output_type": "execute_result",
          "data": {
            "text/plain": [
              "5144"
            ]
          },
          "metadata": {},
          "execution_count": 10
        }
      ]
    },
    {
      "cell_type": "markdown",
      "source": [
        "We want to explore how much of an advtange does size give? ie how much do height, reach, and age, really affect the outcome of a fight? and how much? Also, does the amount of rounds fought affect the outcome?"
      ],
      "metadata": {
        "id": "0YyPIxDMM3m_"
      }
    },
    {
      "cell_type": "code",
      "metadata": {
        "id": "lXUpd3lF_fH8"
      },
      "source": [
        "# Add columns to give an indicator for if the winner had a height/reach/age advantage\n",
        "# include the difference fields as their own columns\n",
        "\n",
        "df['winner_reach_adv'] = ((df['Winner'] == 'Red') & (df['R_Reach_cms']>df['B_Reach_cms'])) | ((df['Winner'] == 'Blue') & (df['B_Reach_cms']>df['R_Reach_cms']))\n",
        "df['winner_age_adv'] = ((df['Winner'] == 'Red') & (df['R_age']<df['B_age'])) | ((df['Winner'] == 'Blue') & (df['B_age']<df['R_age']))\n",
        "df['winner_height_adv'] = ((df['Winner'] == 'Red') & (df['R_Height_cms']>df['B_Height_cms'])) | ((df['Winner'] == 'Blue') & (df['B_Height_cms']>df['R_Height_cms']))\n",
        "df['reach_diff'] = abs(df['B_Reach_cms']-df['R_Reach_cms'] )\n",
        "df['age_diff'] = abs(df['R_age']-df['B_age'])\n",
        "df['height_diff'] = abs(df['R_Height_cms'] - df['B_Height_cms'])"
      ],
      "execution_count": 11,
      "outputs": []
    },
    {
      "cell_type": "code",
      "metadata": {
        "colab": {
          "base_uri": "https://localhost:8080/"
        },
        "id": "ePR4kFWDLhgJ",
        "outputId": "df8024b3-ce36-45d1-f5d0-1146ec610d4a"
      },
      "source": [
        "# Take a random sample of the data\n",
        "df.iloc[6][['R_fighter','B_fighter','Winner','R_Height_cms','B_Height_cms','R_age','B_age','R_Reach_cms','B_Reach_cms','winner_reach_adv','winner_age_adv','winner_height_adv','reach_diff','age_diff','height_diff']]"
      ],
      "execution_count": 12,
      "outputs": [
        {
          "output_type": "execute_result",
          "data": {
            "text/plain": [
              "R_fighter            Aljamain Sterling\n",
              "B_fighter                 Pedro Munhoz\n",
              "Winner                             Red\n",
              "R_Height_cms                    170.18\n",
              "B_Height_cms                    167.64\n",
              "R_age                               29\n",
              "B_age                               32\n",
              "R_Reach_cms                     180.34\n",
              "B_Reach_cms                      165.1\n",
              "winner_reach_adv                  True\n",
              "winner_age_adv                    True\n",
              "winner_height_adv                 True\n",
              "reach_diff                       15.24\n",
              "age_diff                             3\n",
              "height_diff                       2.54\n",
              "Name: 6, dtype: object"
            ]
          },
          "metadata": {},
          "execution_count": 12
        }
      ]
    },
    {
      "cell_type": "markdown",
      "metadata": {
        "id": "usRbWewBija1"
      },
      "source": [
        "- Reach\n"
      ]
    },
    {
      "cell_type": "code",
      "source": [
        "# Get df for fights where winner had a reach advantage\n",
        "df_reach = df[(df['winner_reach_adv'] == True)]\n",
        "\n",
        "# Amount of fights where winner had a reach advantage\n",
        "reach_adv_win = len(df_reach.index)\n",
        "# reach_adv_win\n",
        "\n",
        "# Percentage of fights where winner had a reach advantage\n",
        "print('Percentage of fights with a winner who had a reach advantage:', reach_adv_win/total_fights)"
      ],
      "metadata": {
        "id": "8KGXukHGXTMr",
        "colab": {
          "base_uri": "https://localhost:8080/"
        },
        "outputId": "d89beae5-b86b-4f99-d710-3566f3593f62"
      },
      "execution_count": 13,
      "outputs": [
        {
          "output_type": "stream",
          "name": "stdout",
          "text": [
            "Percentage of fights with a winner who had a reach advantage: 0.38472006220839816\n"
          ]
        }
      ]
    },
    {
      "cell_type": "code",
      "metadata": {
        "colab": {
          "base_uri": "https://localhost:8080/",
          "height": 81
        },
        "id": "nlpemaam4s8C",
        "outputId": "195e40d3-cd28-487c-d3e8-bfe73f641b2c"
      },
      "source": [
        "# Find the maximum reach advantage for fun\n",
        "reach_ind_max = df_reach['reach_diff'].idxmax()\n",
        "#reach_ind_max\n",
        "\n",
        "max_reach_diff_fight = df_reach[df_reach.index == reach_ind_max]\n",
        "max_reach_diff_fight[['R_fighter','R_Reach_cms','B_fighter','B_Reach_cms','reach_diff','Winner','weight_class']]"
      ],
      "execution_count": 14,
      "outputs": [
        {
          "output_type": "execute_result",
          "data": {
            "text/html": [
              "\n",
              "  <div id=\"df-f91990a4-5170-47e3-b69e-7e6816c3993d\">\n",
              "    <div class=\"colab-df-container\">\n",
              "      <div>\n",
              "<style scoped>\n",
              "    .dataframe tbody tr th:only-of-type {\n",
              "        vertical-align: middle;\n",
              "    }\n",
              "\n",
              "    .dataframe tbody tr th {\n",
              "        vertical-align: top;\n",
              "    }\n",
              "\n",
              "    .dataframe thead th {\n",
              "        text-align: right;\n",
              "    }\n",
              "</style>\n",
              "<table border=\"1\" class=\"dataframe\">\n",
              "  <thead>\n",
              "    <tr style=\"text-align: right;\">\n",
              "      <th></th>\n",
              "      <th>R_fighter</th>\n",
              "      <th>R_Reach_cms</th>\n",
              "      <th>B_fighter</th>\n",
              "      <th>B_Reach_cms</th>\n",
              "      <th>reach_diff</th>\n",
              "      <th>Winner</th>\n",
              "      <th>weight_class</th>\n",
              "    </tr>\n",
              "  </thead>\n",
              "  <tbody>\n",
              "    <tr>\n",
              "      <th>3615</th>\n",
              "      <td>Miguel Torres</td>\n",
              "      <td>193.04</td>\n",
              "      <td>Antonio Banuelos</td>\n",
              "      <td>160.02</td>\n",
              "      <td>33.02</td>\n",
              "      <td>Red</td>\n",
              "      <td>Bantamweight</td>\n",
              "    </tr>\n",
              "  </tbody>\n",
              "</table>\n",
              "</div>\n",
              "      <button class=\"colab-df-convert\" onclick=\"convertToInteractive('df-f91990a4-5170-47e3-b69e-7e6816c3993d')\"\n",
              "              title=\"Convert this dataframe to an interactive table.\"\n",
              "              style=\"display:none;\">\n",
              "        \n",
              "  <svg xmlns=\"http://www.w3.org/2000/svg\" height=\"24px\"viewBox=\"0 0 24 24\"\n",
              "       width=\"24px\">\n",
              "    <path d=\"M0 0h24v24H0V0z\" fill=\"none\"/>\n",
              "    <path d=\"M18.56 5.44l.94 2.06.94-2.06 2.06-.94-2.06-.94-.94-2.06-.94 2.06-2.06.94zm-11 1L8.5 8.5l.94-2.06 2.06-.94-2.06-.94L8.5 2.5l-.94 2.06-2.06.94zm10 10l.94 2.06.94-2.06 2.06-.94-2.06-.94-.94-2.06-.94 2.06-2.06.94z\"/><path d=\"M17.41 7.96l-1.37-1.37c-.4-.4-.92-.59-1.43-.59-.52 0-1.04.2-1.43.59L10.3 9.45l-7.72 7.72c-.78.78-.78 2.05 0 2.83L4 21.41c.39.39.9.59 1.41.59.51 0 1.02-.2 1.41-.59l7.78-7.78 2.81-2.81c.8-.78.8-2.07 0-2.86zM5.41 20L4 18.59l7.72-7.72 1.47 1.35L5.41 20z\"/>\n",
              "  </svg>\n",
              "      </button>\n",
              "      \n",
              "  <style>\n",
              "    .colab-df-container {\n",
              "      display:flex;\n",
              "      flex-wrap:wrap;\n",
              "      gap: 12px;\n",
              "    }\n",
              "\n",
              "    .colab-df-convert {\n",
              "      background-color: #E8F0FE;\n",
              "      border: none;\n",
              "      border-radius: 50%;\n",
              "      cursor: pointer;\n",
              "      display: none;\n",
              "      fill: #1967D2;\n",
              "      height: 32px;\n",
              "      padding: 0 0 0 0;\n",
              "      width: 32px;\n",
              "    }\n",
              "\n",
              "    .colab-df-convert:hover {\n",
              "      background-color: #E2EBFA;\n",
              "      box-shadow: 0px 1px 2px rgba(60, 64, 67, 0.3), 0px 1px 3px 1px rgba(60, 64, 67, 0.15);\n",
              "      fill: #174EA6;\n",
              "    }\n",
              "\n",
              "    [theme=dark] .colab-df-convert {\n",
              "      background-color: #3B4455;\n",
              "      fill: #D2E3FC;\n",
              "    }\n",
              "\n",
              "    [theme=dark] .colab-df-convert:hover {\n",
              "      background-color: #434B5C;\n",
              "      box-shadow: 0px 1px 3px 1px rgba(0, 0, 0, 0.15);\n",
              "      filter: drop-shadow(0px 1px 2px rgba(0, 0, 0, 0.3));\n",
              "      fill: #FFFFFF;\n",
              "    }\n",
              "  </style>\n",
              "\n",
              "      <script>\n",
              "        const buttonEl =\n",
              "          document.querySelector('#df-f91990a4-5170-47e3-b69e-7e6816c3993d button.colab-df-convert');\n",
              "        buttonEl.style.display =\n",
              "          google.colab.kernel.accessAllowed ? 'block' : 'none';\n",
              "\n",
              "        async function convertToInteractive(key) {\n",
              "          const element = document.querySelector('#df-f91990a4-5170-47e3-b69e-7e6816c3993d');\n",
              "          const dataTable =\n",
              "            await google.colab.kernel.invokeFunction('convertToInteractive',\n",
              "                                                     [key], {});\n",
              "          if (!dataTable) return;\n",
              "\n",
              "          const docLinkHtml = 'Like what you see? Visit the ' +\n",
              "            '<a target=\"_blank\" href=https://colab.research.google.com/notebooks/data_table.ipynb>data table notebook</a>'\n",
              "            + ' to learn more about interactive tables.';\n",
              "          element.innerHTML = '';\n",
              "          dataTable['output_type'] = 'display_data';\n",
              "          await google.colab.output.renderOutput(dataTable, element);\n",
              "          const docLink = document.createElement('div');\n",
              "          docLink.innerHTML = docLinkHtml;\n",
              "          element.appendChild(docLink);\n",
              "        }\n",
              "      </script>\n",
              "    </div>\n",
              "  </div>\n",
              "  "
            ],
            "text/plain": [
              "          R_fighter  R_Reach_cms  ... Winner  weight_class\n",
              "3615  Miguel Torres       193.04  ...    Red  Bantamweight\n",
              "\n",
              "[1 rows x 7 columns]"
            ]
          },
          "metadata": {},
          "execution_count": 14
        }
      ]
    },
    {
      "cell_type": "markdown",
      "metadata": {
        "id": "Wbx4ZAC4AWmx"
      },
      "source": [
        "Unbelievable...."
      ]
    },
    {
      "cell_type": "code",
      "metadata": {
        "id": "L9viD4hv-baH"
      },
      "source": [
        "hist_reach,bin_edges_reach = np.histogram(df_reach['reach_diff'])\n",
        "# hist_reach\n",
        "# print(\"\")\n",
        "# bin_edges_reach"
      ],
      "execution_count": 15,
      "outputs": []
    },
    {
      "cell_type": "code",
      "metadata": {
        "colab": {
          "base_uri": "https://localhost:8080/",
          "height": 350
        },
        "id": "CGaurFdVMHw_",
        "outputId": "d2428833-d826-458d-bb19-1784b875b2a3"
      },
      "source": [
        "# Reach histogram with matplotlib and numpy.\n",
        "plt.figure(figsize=(8,5))\n",
        "plt.title('Histogram of fights won with reach advantage ')\n",
        "plt.xlabel('Reach difference (cms)')\n",
        "plt.ylabel('Count')\n",
        "plt.hist(df_reach['reach_diff'])\n",
        "plt.grid()\n",
        "plt.xticks(bin_edges_reach);\n",
        "\n",
        "#df_reach['reach_diff'].hist()"
      ],
      "execution_count": 16,
      "outputs": [
        {
          "output_type": "display_data",
          "data": {
            "image/png": "[encoded data removed]",
            "text/plain": [
              "<Figure size 576x360 with 1 Axes>"
            ]
          },
          "metadata": {
            "needs_background": "light"
          }
        }
      ]
    },
    {
      "cell_type": "markdown",
      "source": [
        "- Age"
      ],
      "metadata": {
        "id": "z3_CbpW4m4Ej"
      }
    },
    {
      "cell_type": "code",
      "source": [
        "df_age = df[(df['winner_age_adv'] == True)]\n",
        "\n",
        "age_adv_win = len(df_age.index)\n",
        "#age_adv_win\n",
        "\n",
        "print('Percentage of fights with a winner who had a youth advantage:', age_adv_win/total_fights)"
      ],
      "metadata": {
        "id": "NVdMFvLTZ-Gj",
        "colab": {
          "base_uri": "https://localhost:8080/"
        },
        "outputId": "1cc7fab7-f67f-4b04-c4ab-0dfe7910ef5e"
      },
      "execution_count": 17,
      "outputs": [
        {
          "output_type": "stream",
          "name": "stdout",
          "text": [
            "Percentage of fights with a winner who had a youth advantage: 0.49241835147744945\n"
          ]
        }
      ]
    },
    {
      "cell_type": "code",
      "metadata": {
        "colab": {
          "base_uri": "https://localhost:8080/",
          "height": 81
        },
        "id": "5HESJ-ZDCtFS",
        "outputId": "ac80eee2-1d6e-4d3c-c66d-c728181940ba"
      },
      "source": [
        "# Find the maximum age advantage for fun\n",
        "age_ind_max = df_age['age_diff'].idxmax()\n",
        "# age_ind_max\n",
        "\n",
        "max_age_diff_fight = df_age[df_age.index == age_ind_max]\n",
        "max_age_diff_fight[['R_fighter','R_age','B_fighter','B_age','age_diff','Winner','weight_class']]"
      ],
      "execution_count": 18,
      "outputs": [
        {
          "output_type": "execute_result",
          "data": {
            "text/html": [
              "\n",
              "  <div id=\"df-ba2f22ae-1dfd-4aec-ad87-8c40bacf173b\">\n",
              "    <div class=\"colab-df-container\">\n",
              "      <div>\n",
              "<style scoped>\n",
              "    .dataframe tbody tr th:only-of-type {\n",
              "        vertical-align: middle;\n",
              "    }\n",
              "\n",
              "    .dataframe tbody tr th {\n",
              "        vertical-align: top;\n",
              "    }\n",
              "\n",
              "    .dataframe thead th {\n",
              "        text-align: right;\n",
              "    }\n",
              "</style>\n",
              "<table border=\"1\" class=\"dataframe\">\n",
              "  <thead>\n",
              "    <tr style=\"text-align: right;\">\n",
              "      <th></th>\n",
              "      <th>R_fighter</th>\n",
              "      <th>R_age</th>\n",
              "      <th>B_fighter</th>\n",
              "      <th>B_age</th>\n",
              "      <th>age_diff</th>\n",
              "      <th>Winner</th>\n",
              "      <th>weight_class</th>\n",
              "    </tr>\n",
              "  </thead>\n",
              "  <tbody>\n",
              "    <tr>\n",
              "      <th>5113</th>\n",
              "      <td>Royce Gracie</td>\n",
              "      <td>28.0</td>\n",
              "      <td>Ron van Clief</td>\n",
              "      <td>51.0</td>\n",
              "      <td>23.0</td>\n",
              "      <td>Red</td>\n",
              "      <td>Open Weight</td>\n",
              "    </tr>\n",
              "  </tbody>\n",
              "</table>\n",
              "</div>\n",
              "      <button class=\"colab-df-convert\" onclick=\"convertToInteractive('df-ba2f22ae-1dfd-4aec-ad87-8c40bacf173b')\"\n",
              "              title=\"Convert this dataframe to an interactive table.\"\n",
              "              style=\"display:none;\">\n",
              "        \n",
              "  <svg xmlns=\"http://www.w3.org/2000/svg\" height=\"24px\"viewBox=\"0 0 24 24\"\n",
              "       width=\"24px\">\n",
              "    <path d=\"M0 0h24v24H0V0z\" fill=\"none\"/>\n",
              "    <path d=\"M18.56 5.44l.94 2.06.94-2.06 2.06-.94-2.06-.94-.94-2.06-.94 2.06-2.06.94zm-11 1L8.5 8.5l.94-2.06 2.06-.94-2.06-.94L8.5 2.5l-.94 2.06-2.06.94zm10 10l.94 2.06.94-2.06 2.06-.94-2.06-.94-.94-2.06-.94 2.06-2.06.94z\"/><path d=\"M17.41 7.96l-1.37-1.37c-.4-.4-.92-.59-1.43-.59-.52 0-1.04.2-1.43.59L10.3 9.45l-7.72 7.72c-.78.78-.78 2.05 0 2.83L4 21.41c.39.39.9.59 1.41.59.51 0 1.02-.2 1.41-.59l7.78-7.78 2.81-2.81c.8-.78.8-2.07 0-2.86zM5.41 20L4 18.59l7.72-7.72 1.47 1.35L5.41 20z\"/>\n",
              "  </svg>\n",
              "      </button>\n",
              "      \n",
              "  <style>\n",
              "    .colab-df-container {\n",
              "      display:flex;\n",
              "      flex-wrap:wrap;\n",
              "      gap: 12px;\n",
              "    }\n",
              "\n",
              "    .colab-df-convert {\n",
              "      background-color: #E8F0FE;\n",
              "      border: none;\n",
              "      border-radius: 50%;\n",
              "      cursor: pointer;\n",
              "      display: none;\n",
              "      fill: #1967D2;\n",
              "      height: 32px;\n",
              "      padding: 0 0 0 0;\n",
              "      width: 32px;\n",
              "    }\n",
              "\n",
              "    .colab-df-convert:hover {\n",
              "      background-color: #E2EBFA;\n",
              "      box-shadow: 0px 1px 2px rgba(60, 64, 67, 0.3), 0px 1px 3px 1px rgba(60, 64, 67, 0.15);\n",
              "      fill: #174EA6;\n",
              "    }\n",
              "\n",
              "    [theme=dark] .colab-df-convert {\n",
              "      background-color: #3B4455;\n",
              "      fill: #D2E3FC;\n",
              "    }\n",
              "\n",
              "    [theme=dark] .colab-df-convert:hover {\n",
              "      background-color: #434B5C;\n",
              "      box-shadow: 0px 1px 3px 1px rgba(0, 0, 0, 0.15);\n",
              "      filter: drop-shadow(0px 1px 2px rgba(0, 0, 0, 0.3));\n",
              "      fill: #FFFFFF;\n",
              "    }\n",
              "  </style>\n",
              "\n",
              "      <script>\n",
              "        const buttonEl =\n",
              "          document.querySelector('#df-ba2f22ae-1dfd-4aec-ad87-8c40bacf173b button.colab-df-convert');\n",
              "        buttonEl.style.display =\n",
              "          google.colab.kernel.accessAllowed ? 'block' : 'none';\n",
              "\n",
              "        async function convertToInteractive(key) {\n",
              "          const element = document.querySelector('#df-ba2f22ae-1dfd-4aec-ad87-8c40bacf173b');\n",
              "          const dataTable =\n",
              "            await google.colab.kernel.invokeFunction('convertToInteractive',\n",
              "                                                     [key], {});\n",
              "          if (!dataTable) return;\n",
              "\n",
              "          const docLinkHtml = 'Like what you see? Visit the ' +\n",
              "            '<a target=\"_blank\" href=https://colab.research.google.com/notebooks/data_table.ipynb>data table notebook</a>'\n",
              "            + ' to learn more about interactive tables.';\n",
              "          element.innerHTML = '';\n",
              "          dataTable['output_type'] = 'display_data';\n",
              "          await google.colab.output.renderOutput(dataTable, element);\n",
              "          const docLink = document.createElement('div');\n",
              "          docLink.innerHTML = docLinkHtml;\n",
              "          element.appendChild(docLink);\n",
              "        }\n",
              "      </script>\n",
              "    </div>\n",
              "  </div>\n",
              "  "
            ],
            "text/plain": [
              "         R_fighter  R_age      B_fighter  B_age  age_diff Winner weight_class\n",
              "5113  Royce Gracie   28.0  Ron van Clief   51.0      23.0    Red  Open Weight"
            ]
          },
          "metadata": {},
          "execution_count": 18
        }
      ]
    },
    {
      "cell_type": "markdown",
      "source": [
        "Should have expected this."
      ],
      "metadata": {
        "id": "qIQXSYWNDkQh"
      }
    },
    {
      "cell_type": "code",
      "source": [
        "hist_age,bin_edges_age = np.histogram(df_age['age_diff'])\n",
        "# hist_age\n",
        "# print(\"\")\n",
        "# bin_edges_age"
      ],
      "metadata": {
        "id": "zFT4ZLkPDon1"
      },
      "execution_count": 19,
      "outputs": []
    },
    {
      "cell_type": "code",
      "source": [
        "plt.figure(figsize=(8,5))\n",
        "plt.title('Histogram of fights won with youth advantage ')\n",
        "plt.xlabel('Age difference (years)')\n",
        "plt.ylabel('Count')\n",
        "plt.hist(df_age['age_diff'])\n",
        "plt.grid()\n",
        "plt.xticks(bin_edges_age);\n",
        "\n",
        "#df_age['age_diff'].hist(bins = 20)"
      ],
      "metadata": {
        "colab": {
          "base_uri": "https://localhost:8080/",
          "height": 350
        },
        "id": "0P0VJ5D4EXqQ",
        "outputId": "537c703b-9c74-47aa-f406-03db5f4a4077"
      },
      "execution_count": 20,
      "outputs": [
        {
          "output_type": "display_data",
          "data": {
            "image/png": "[encoded data removed]",
            "text/plain": [
              "<Figure size 576x360 with 1 Axes>"
            ]
          },
          "metadata": {
            "needs_background": "light"
          }
        }
      ]
    },
    {
      "cell_type": "markdown",
      "metadata": {
        "id": "uefuteZBcbx8"
      },
      "source": [
        "- Height"
      ]
    },
    {
      "cell_type": "code",
      "source": [
        "df_height = df[(df['winner_height_adv'] == True)]\n",
        "height_adv_win = len(df_height.index)\n",
        "# height_adv_win\n",
        "print('Percentage of fights with a winner who had a height advantage:', height_adv_win/total_fights)"
      ],
      "metadata": {
        "id": "sIkLekQca2Oh",
        "colab": {
          "base_uri": "https://localhost:8080/"
        },
        "outputId": "b42c050e-7995-41a8-f61c-2e7c27856e4e"
      },
      "execution_count": 21,
      "outputs": [
        {
          "output_type": "stream",
          "name": "stdout",
          "text": [
            "Percentage of fights with a winner who had a height advantage: 0.41388024883359253\n"
          ]
        }
      ]
    },
    {
      "cell_type": "code",
      "source": [
        "hist_height,bin_edges_height = np.histogram(df_height['height_diff'])\n",
        "# hist_height\n",
        "# print(\"\")\n",
        "# bin_edges_height"
      ],
      "metadata": {
        "id": "pX2ML5SnFX1o"
      },
      "execution_count": 22,
      "outputs": []
    },
    {
      "cell_type": "code",
      "source": [
        "plt.figure(figsize=(8,5))\n",
        "plt.title('Histogram of fights won with height advantage ')\n",
        "plt.xlabel('Height difference (cms)')\n",
        "plt.ylabel('Count')\n",
        "plt.hist(df_height['height_diff'])\n",
        "plt.grid()\n",
        "plt.xticks(bin_edges_height);\n",
        "\n",
        "#df_height['height_diff'].hist(bins = 20)"
      ],
      "metadata": {
        "colab": {
          "base_uri": "https://localhost:8080/",
          "height": 350
        },
        "id": "Dvr0EN5FFk8y",
        "outputId": "1f77fffc-934c-44af-889c-e1df8a311b2c"
      },
      "execution_count": 23,
      "outputs": [
        {
          "output_type": "display_data",
          "data": {
            "image/png": "[encoded data removed]",
            "text/plain": [
              "<Figure size 576x360 with 1 Axes>"
            ]
          },
          "metadata": {
            "needs_background": "light"
          }
        }
      ]
    },
    {
      "cell_type": "markdown",
      "source": [
        "- Ape Index<br>\n",
        "This is a metric we introduce here as it is very interesting. Ape Index is the ratio between fighters arm span and height, usually measured by the difference between a fighters reach and their hight. A positive ape index indicates that a fighter may be able to generate more torque for their punches or be able to grab for takedowns more easily.\n",
        "<br> See this article: https://howtheyplay.com/individual-sports/10-MMA-Fighters-with-Abnormal-Ape-Index"
      ],
      "metadata": {
        "id": "ZQ1tsLXGm_u5"
      }
    },
    {
      "cell_type": "code",
      "source": [
        "# ape index is arm span inches/cm minus height\n",
        "df['R_Ape_Index'] = df['R_Reach_cms'] - df['R_Height_cms']\n",
        "df['B_Ape_Index'] = df['B_Reach_cms'] - df['B_Height_cms']"
      ],
      "metadata": {
        "id": "ui7j-dUcN5UV"
      },
      "execution_count": 24,
      "outputs": []
    },
    {
      "cell_type": "code",
      "source": [
        "# Take a sample to see the ape index \n",
        "df.head(1)[['R_Reach_cms','R_Height_cms','R_Ape_Index','B_Reach_cms','B_Height_cms','B_Ape_Index']]"
      ],
      "metadata": {
        "colab": {
          "base_uri": "https://localhost:8080/",
          "height": 81
        },
        "id": "2sVZ2heUTiR3",
        "outputId": "e4d4bf76-41a7-4ede-e948-d8654e1c9591"
      },
      "execution_count": 25,
      "outputs": [
        {
          "output_type": "execute_result",
          "data": {
            "text/html": [
              "\n",
              "  <div id=\"df-faeea7f6-2bf6-494d-bece-42d05c74540b\">\n",
              "    <div class=\"colab-df-container\">\n",
              "      <div>\n",
              "<style scoped>\n",
              "    .dataframe tbody tr th:only-of-type {\n",
              "        vertical-align: middle;\n",
              "    }\n",
              "\n",
              "    .dataframe tbody tr th {\n",
              "        vertical-align: top;\n",
              "    }\n",
              "\n",
              "    .dataframe thead th {\n",
              "        text-align: right;\n",
              "    }\n",
              "</style>\n",
              "<table border=\"1\" class=\"dataframe\">\n",
              "  <thead>\n",
              "    <tr style=\"text-align: right;\">\n",
              "      <th></th>\n",
              "      <th>R_Reach_cms</th>\n",
              "      <th>R_Height_cms</th>\n",
              "      <th>R_Ape_Index</th>\n",
              "      <th>B_Reach_cms</th>\n",
              "      <th>B_Height_cms</th>\n",
              "      <th>B_Ape_Index</th>\n",
              "    </tr>\n",
              "  </thead>\n",
              "  <tbody>\n",
              "    <tr>\n",
              "      <th>0</th>\n",
              "      <td>162.56</td>\n",
              "      <td>162.56</td>\n",
              "      <td>0.0</td>\n",
              "      <td>170.18</td>\n",
              "      <td>167.64</td>\n",
              "      <td>2.54</td>\n",
              "    </tr>\n",
              "  </tbody>\n",
              "</table>\n",
              "</div>\n",
              "      <button class=\"colab-df-convert\" onclick=\"convertToInteractive('df-faeea7f6-2bf6-494d-bece-42d05c74540b')\"\n",
              "              title=\"Convert this dataframe to an interactive table.\"\n",
              "              style=\"display:none;\">\n",
              "        \n",
              "  <svg xmlns=\"http://www.w3.org/2000/svg\" height=\"24px\"viewBox=\"0 0 24 24\"\n",
              "       width=\"24px\">\n",
              "    <path d=\"M0 0h24v24H0V0z\" fill=\"none\"/>\n",
              "    <path d=\"M18.56 5.44l.94 2.06.94-2.06 2.06-.94-2.06-.94-.94-2.06-.94 2.06-2.06.94zm-11 1L8.5 8.5l.94-2.06 2.06-.94-2.06-.94L8.5 2.5l-.94 2.06-2.06.94zm10 10l.94 2.06.94-2.06 2.06-.94-2.06-.94-.94-2.06-.94 2.06-2.06.94z\"/><path d=\"M17.41 7.96l-1.37-1.37c-.4-.4-.92-.59-1.43-.59-.52 0-1.04.2-1.43.59L10.3 9.45l-7.72 7.72c-.78.78-.78 2.05 0 2.83L4 21.41c.39.39.9.59 1.41.59.51 0 1.02-.2 1.41-.59l7.78-7.78 2.81-2.81c.8-.78.8-2.07 0-2.86zM5.41 20L4 18.59l7.72-7.72 1.47 1.35L5.41 20z\"/>\n",
              "  </svg>\n",
              "      </button>\n",
              "      \n",
              "  <style>\n",
              "    .colab-df-container {\n",
              "      display:flex;\n",
              "      flex-wrap:wrap;\n",
              "      gap: 12px;\n",
              "    }\n",
              "\n",
              "    .colab-df-convert {\n",
              "      background-color: #E8F0FE;\n",
              "      border: none;\n",
              "      border-radius: 50%;\n",
              "      cursor: pointer;\n",
              "      display: none;\n",
              "      fill: #1967D2;\n",
              "      height: 32px;\n",
              "      padding: 0 0 0 0;\n",
              "      width: 32px;\n",
              "    }\n",
              "\n",
              "    .colab-df-convert:hover {\n",
              "      background-color: #E2EBFA;\n",
              "      box-shadow: 0px 1px 2px rgba(60, 64, 67, 0.3), 0px 1px 3px 1px rgba(60, 64, 67, 0.15);\n",
              "      fill: #174EA6;\n",
              "    }\n",
              "\n",
              "    [theme=dark] .colab-df-convert {\n",
              "      background-color: #3B4455;\n",
              "      fill: #D2E3FC;\n",
              "    }\n",
              "\n",
              "    [theme=dark] .colab-df-convert:hover {\n",
              "      background-color: #434B5C;\n",
              "      box-shadow: 0px 1px 3px 1px rgba(0, 0, 0, 0.15);\n",
              "      filter: drop-shadow(0px 1px 2px rgba(0, 0, 0, 0.3));\n",
              "      fill: #FFFFFF;\n",
              "    }\n",
              "  </style>\n",
              "\n",
              "      <script>\n",
              "        const buttonEl =\n",
              "          document.querySelector('#df-faeea7f6-2bf6-494d-bece-42d05c74540b button.colab-df-convert');\n",
              "        buttonEl.style.display =\n",
              "          google.colab.kernel.accessAllowed ? 'block' : 'none';\n",
              "\n",
              "        async function convertToInteractive(key) {\n",
              "          const element = document.querySelector('#df-faeea7f6-2bf6-494d-bece-42d05c74540b');\n",
              "          const dataTable =\n",
              "            await google.colab.kernel.invokeFunction('convertToInteractive',\n",
              "                                                     [key], {});\n",
              "          if (!dataTable) return;\n",
              "\n",
              "          const docLinkHtml = 'Like what you see? Visit the ' +\n",
              "            '<a target=\"_blank\" href=https://colab.research.google.com/notebooks/data_table.ipynb>data table notebook</a>'\n",
              "            + ' to learn more about interactive tables.';\n",
              "          element.innerHTML = '';\n",
              "          dataTable['output_type'] = 'display_data';\n",
              "          await google.colab.output.renderOutput(dataTable, element);\n",
              "          const docLink = document.createElement('div');\n",
              "          docLink.innerHTML = docLinkHtml;\n",
              "          element.appendChild(docLink);\n",
              "        }\n",
              "      </script>\n",
              "    </div>\n",
              "  </div>\n",
              "  "
            ],
            "text/plain": [
              "   R_Reach_cms  R_Height_cms  ...  B_Height_cms  B_Ape_Index\n",
              "0       162.56        162.56  ...        167.64         2.54\n",
              "\n",
              "[1 rows x 6 columns]"
            ]
          },
          "metadata": {},
          "execution_count": 25
        }
      ]
    },
    {
      "cell_type": "code",
      "source": [
        "df['winner_ape_index_adv'] = ((df['Winner'] == 'Red') & (df['R_Ape_Index']>df['B_Ape_Index'])) | ((df['Winner'] == 'Blue') & (df['B_Ape_Index']>df['R_Ape_Index']))"
      ],
      "metadata": {
        "id": "UeZbmRQOeGGg"
      },
      "execution_count": 26,
      "outputs": []
    },
    {
      "cell_type": "code",
      "source": [
        "ape_index_adv_win = len(df[(df['winner_ape_index_adv']==True)].index)\n",
        "ape_index_adv_win"
      ],
      "metadata": {
        "colab": {
          "base_uri": "https://localhost:8080/"
        },
        "id": "FcnHQ8MlfWbh",
        "outputId": "025fb17a-7dd6-4b12-bc6e-2fe6d6c6adc9"
      },
      "execution_count": 27,
      "outputs": [
        {
          "output_type": "execute_result",
          "data": {
            "text/plain": [
              "2008"
            ]
          },
          "metadata": {},
          "execution_count": 27
        }
      ]
    },
    {
      "cell_type": "code",
      "source": [
        "print('Percentage of fights with a winner who had a greater ape index:',ape_index_adv_win/total_fights)"
      ],
      "metadata": {
        "colab": {
          "base_uri": "https://localhost:8080/"
        },
        "id": "ALhq9bTahonN",
        "outputId": "09736591-277d-4a14-fd6b-9f5269343c71"
      },
      "execution_count": 28,
      "outputs": [
        {
          "output_type": "stream",
          "name": "stdout",
          "text": [
            "Percentage of fights with a winner who had a greater ape index: 0.39035769828926903\n"
          ]
        }
      ]
    },
    {
      "cell_type": "markdown",
      "source": [
        "<b>Preparing the data for ML algorithms</b><br>\n",
        "Many of the parameters regarding the fighters are cumulative and so they do not have much value, and well (as the saying goes) 'styles make fights'. We will stick with some more basic parameters here. We will include _total_rounds_fought since it does give an indicator of experience/mileage a fighter has, which seems useful.<br>\n",
        "Note: optimally we would want to do seperate modelling for women and men, however we lack data as it is, so we will keep all examples."
      ],
      "metadata": {
        "id": "_Hb1gxd0qq1N"
      }
    },
    {
      "cell_type": "code",
      "source": [
        "param_list = ['R_Height_cms', \n",
        "              'B_Height_cms', \n",
        "              'R_Reach_cms', \n",
        "              'B_Reach_cms', \n",
        "              'R_age',\n",
        "              'B_age', \n",
        "              'R_total_rounds_fought',\n",
        "              'B_total_rounds_fought',\n",
        "              'Winner'] "
      ],
      "metadata": {
        "id": "_h9-41JhoFhV"
      },
      "execution_count": 29,
      "outputs": []
    },
    {
      "cell_type": "code",
      "source": [
        "df_input = df[param_list]"
      ],
      "metadata": {
        "id": "vZ-c3N1YtuRy"
      },
      "execution_count": 30,
      "outputs": []
    },
    {
      "cell_type": "markdown",
      "source": [
        "- Dealling with NaN values:\n",
        "<br>Here we see there are some NaN values, how many are there? <br>\n",
        "If there are few, maybe we can just drop the rows."
      ],
      "metadata": {
        "id": "di02m57iAgQr"
      }
    },
    {
      "cell_type": "code",
      "source": [
        "is_NaN = df_input.isnull()\n",
        "row_has_NaN = is_NaN.any(axis=1)\n",
        "rows_with_NaN = df_input[row_has_NaN]\n",
        "#rows_with_NaN"
      ],
      "metadata": {
        "id": "RuYPP_ceAe3s"
      },
      "execution_count": 31,
      "outputs": []
    },
    {
      "cell_type": "code",
      "source": [
        "# Number of rows with NaN values\n",
        "print(\"Number of rows with NaN values\", len(rows_with_NaN.index))"
      ],
      "metadata": {
        "colab": {
          "base_uri": "https://localhost:8080/"
        },
        "id": "z3fE7hlsAyue",
        "outputId": "2eeb867b-204f-42ac-93b5-f5fca8b0c01c"
      },
      "execution_count": 32,
      "outputs": [
        {
          "output_type": "stream",
          "name": "stdout",
          "text": [
            "Number of rows with NaN values 751\n"
          ]
        }
      ]
    },
    {
      "cell_type": "markdown",
      "source": [
        "751 seems to be high since we only have 5144 data points in our sample as it is. 751/5144 = 14.6% of our data. <br>\n",
        "Lets try to replace the NaN values with an average for the column."
      ],
      "metadata": {
        "id": "JbukQVIXA3e4"
      }
    },
    {
      "cell_type": "code",
      "source": [
        "# Check the mean values for all columns\n",
        "df_input.mean()"
      ],
      "metadata": {
        "colab": {
          "base_uri": "https://localhost:8080/"
        },
        "id": "xyrbiLMlBQEg",
        "outputId": "96b5f969-61d1-48b9-adf8-93fabb90adf5"
      },
      "execution_count": 33,
      "outputs": [
        {
          "output_type": "execute_result",
          "data": {
            "text/plain": [
              "R_Height_cms             179.274089\n",
              "B_Height_cms             179.238641\n",
              "R_Reach_cms              183.664412\n",
              "B_Reach_cms              183.286128\n",
              "R_age                     29.442323\n",
              "B_age                     29.171963\n",
              "R_total_rounds_fought     12.853421\n",
              "B_total_rounds_fought      8.920879\n",
              "dtype: float64"
            ]
          },
          "metadata": {},
          "execution_count": 33
        }
      ]
    },
    {
      "cell_type": "code",
      "source": [
        "# Check to see outcome of filling df NaN values with the mean\n",
        "#df_input.fillna(df_input.mean())"
      ],
      "metadata": {
        "id": "G0zeutazBQ8V"
      },
      "execution_count": 34,
      "outputs": []
    },
    {
      "cell_type": "code",
      "source": [
        "# Use the mean of each column to fill its NaN values\n",
        "df_input_na_filled = df_input.fillna(df_input.mean())"
      ],
      "metadata": {
        "id": "blS7x7lNCqHZ"
      },
      "execution_count": 35,
      "outputs": []
    },
    {
      "cell_type": "code",
      "source": [
        "is_NaN = df_input_na_filled.isnull()\n",
        "row_has_NaN = is_NaN.any(axis=1)\n",
        "rows_with_NaN = df_input_na_filled[row_has_NaN]\n",
        "rows_with_NaN\n",
        "len(rows_with_NaN.index)"
      ],
      "metadata": {
        "colab": {
          "base_uri": "https://localhost:8080/",
          "height": 68
        },
        "id": "qkalWQBgCw_H",
        "outputId": "b9e21b69-f196-481a-f897-2d109143cb9f"
      },
      "execution_count": 36,
      "outputs": [
        {
          "output_type": "execute_result",
          "data": {
            "text/html": [
              "\n",
              "  <div id=\"df-8f38d63b-0c82-4bff-b98e-2f9dd4b940fe\">\n",
              "    <div class=\"colab-df-container\">\n",
              "      <div>\n",
              "<style scoped>\n",
              "    .dataframe tbody tr th:only-of-type {\n",
              "        vertical-align: middle;\n",
              "    }\n",
              "\n",
              "    .dataframe tbody tr th {\n",
              "        vertical-align: top;\n",
              "    }\n",
              "\n",
              "    .dataframe thead th {\n",
              "        text-align: right;\n",
              "    }\n",
              "</style>\n",
              "<table border=\"1\" class=\"dataframe\">\n",
              "  <thead>\n",
              "    <tr style=\"text-align: right;\">\n",
              "      <th></th>\n",
              "      <th>R_Height_cms</th>\n",
              "      <th>B_Height_cms</th>\n",
              "      <th>R_Reach_cms</th>\n",
              "      <th>B_Reach_cms</th>\n",
              "      <th>R_age</th>\n",
              "      <th>B_age</th>\n",
              "      <th>R_total_rounds_fought</th>\n",
              "      <th>B_total_rounds_fought</th>\n",
              "      <th>Winner</th>\n",
              "    </tr>\n",
              "  </thead>\n",
              "  <tbody>\n",
              "  </tbody>\n",
              "</table>\n",
              "</div>\n",
              "      <button class=\"colab-df-convert\" onclick=\"convertToInteractive('df-8f38d63b-0c82-4bff-b98e-2f9dd4b940fe')\"\n",
              "              title=\"Convert this dataframe to an interactive table.\"\n",
              "              style=\"display:none;\">\n",
              "        \n",
              "  <svg xmlns=\"http://www.w3.org/2000/svg\" height=\"24px\"viewBox=\"0 0 24 24\"\n",
              "       width=\"24px\">\n",
              "    <path d=\"M0 0h24v24H0V0z\" fill=\"none\"/>\n",
              "    <path d=\"M18.56 5.44l.94 2.06.94-2.06 2.06-.94-2.06-.94-.94-2.06-.94 2.06-2.06.94zm-11 1L8.5 8.5l.94-2.06 2.06-.94-2.06-.94L8.5 2.5l-.94 2.06-2.06.94zm10 10l.94 2.06.94-2.06 2.06-.94-2.06-.94-.94-2.06-.94 2.06-2.06.94z\"/><path d=\"M17.41 7.96l-1.37-1.37c-.4-.4-.92-.59-1.43-.59-.52 0-1.04.2-1.43.59L10.3 9.45l-7.72 7.72c-.78.78-.78 2.05 0 2.83L4 21.41c.39.39.9.59 1.41.59.51 0 1.02-.2 1.41-.59l7.78-7.78 2.81-2.81c.8-.78.8-2.07 0-2.86zM5.41 20L4 18.59l7.72-7.72 1.47 1.35L5.41 20z\"/>\n",
              "  </svg>\n",
              "      </button>\n",
              "      \n",
              "  <style>\n",
              "    .colab-df-container {\n",
              "      display:flex;\n",
              "      flex-wrap:wrap;\n",
              "      gap: 12px;\n",
              "    }\n",
              "\n",
              "    .colab-df-convert {\n",
              "      background-color: #E8F0FE;\n",
              "      border: none;\n",
              "      border-radius: 50%;\n",
              "      cursor: pointer;\n",
              "      display: none;\n",
              "      fill: #1967D2;\n",
              "      height: 32px;\n",
              "      padding: 0 0 0 0;\n",
              "      width: 32px;\n",
              "    }\n",
              "\n",
              "    .colab-df-convert:hover {\n",
              "      background-color: #E2EBFA;\n",
              "      box-shadow: 0px 1px 2px rgba(60, 64, 67, 0.3), 0px 1px 3px 1px rgba(60, 64, 67, 0.15);\n",
              "      fill: #174EA6;\n",
              "    }\n",
              "\n",
              "    [theme=dark] .colab-df-convert {\n",
              "      background-color: #3B4455;\n",
              "      fill: #D2E3FC;\n",
              "    }\n",
              "\n",
              "    [theme=dark] .colab-df-convert:hover {\n",
              "      background-color: #434B5C;\n",
              "      box-shadow: 0px 1px 3px 1px rgba(0, 0, 0, 0.15);\n",
              "      filter: drop-shadow(0px 1px 2px rgba(0, 0, 0, 0.3));\n",
              "      fill: #FFFFFF;\n",
              "    }\n",
              "  </style>\n",
              "\n",
              "      <script>\n",
              "        const buttonEl =\n",
              "          document.querySelector('#df-8f38d63b-0c82-4bff-b98e-2f9dd4b940fe button.colab-df-convert');\n",
              "        buttonEl.style.display =\n",
              "          google.colab.kernel.accessAllowed ? 'block' : 'none';\n",
              "\n",
              "        async function convertToInteractive(key) {\n",
              "          const element = document.querySelector('#df-8f38d63b-0c82-4bff-b98e-2f9dd4b940fe');\n",
              "          const dataTable =\n",
              "            await google.colab.kernel.invokeFunction('convertToInteractive',\n",
              "                                                     [key], {});\n",
              "          if (!dataTable) return;\n",
              "\n",
              "          const docLinkHtml = 'Like what you see? Visit the ' +\n",
              "            '<a target=\"_blank\" href=https://colab.research.google.com/notebooks/data_table.ipynb>data table notebook</a>'\n",
              "            + ' to learn more about interactive tables.';\n",
              "          element.innerHTML = '';\n",
              "          dataTable['output_type'] = 'display_data';\n",
              "          await google.colab.output.renderOutput(dataTable, element);\n",
              "          const docLink = document.createElement('div');\n",
              "          docLink.innerHTML = docLinkHtml;\n",
              "          element.appendChild(docLink);\n",
              "        }\n",
              "      </script>\n",
              "    </div>\n",
              "  </div>\n",
              "  "
            ],
            "text/plain": [
              "Empty DataFrame\n",
              "Columns: [R_Height_cms, B_Height_cms, R_Reach_cms, B_Reach_cms, R_age, B_age, R_total_rounds_fought, B_total_rounds_fought, Winner]\n",
              "Index: []"
            ]
          },
          "metadata": {},
          "execution_count": 36
        },
        {
          "output_type": "execute_result",
          "data": {
            "text/plain": [
              "0"
            ]
          },
          "metadata": {},
          "execution_count": 36
        }
      ]
    },
    {
      "cell_type": "markdown",
      "source": [
        "Good, we now know there are no NaN values."
      ],
      "metadata": {
        "id": "LzTXibNbDBjC"
      }
    },
    {
      "cell_type": "markdown",
      "source": [
        "- Column values:<br>\n",
        "\n",
        "Previously we calculated the differences of our parameters using the absolute values, however if our differences are negative with respect to the winner then we will be using bad information. For instance if the fight winner is shorter than their opponent this needs to be captured, same goes for age and reach. <br><br>\n",
        "Therefore we should recalculate the differences with respect to one of the fighters and our model will be used to calculate the probability that one particular fighter is the winner. <br><br>\n",
        "We will pick Red as the winner, so therefore our output will be y = 1 if Red has won, and we will calculate the differences with respect to Red, ie. R-B for any value."
      ],
      "metadata": {
        "id": "D2sAQAiI5kcv"
      }
    },
    {
      "cell_type": "code",
      "source": [
        "# we need to recalculate the height_diff, reach_diff, and age_diff fields\n",
        "# we should also calculate the Ape Indices\n",
        "# this is because we got the absolute value previously, however we want the values to be with respect to Red now\n",
        "\n",
        "df_input_na_filled['reach_diff'] = df_input_na_filled['R_Reach_cms'] - df_input_na_filled['B_Reach_cms']\n",
        "df_input_na_filled['age_diff'] = df_input_na_filled['R_age'] - df_input_na_filled['B_age']\n",
        "df_input_na_filled['height_diff'] = df_input_na_filled['R_Height_cms'] - df_input_na_filled['B_Height_cms']\n",
        "\n",
        "df_input_na_filled['R_Ape_Index'] = df_input_na_filled['R_Reach_cms'] - df_input_na_filled['R_Height_cms']\n",
        "df_input_na_filled['B_Ape_Index'] = df_input_na_filled['B_Reach_cms'] - df_input_na_filled['B_Height_cms']"
      ],
      "metadata": {
        "id": "7Ynqczthn87X"
      },
      "execution_count": 37,
      "outputs": []
    },
    {
      "cell_type": "code",
      "source": [
        "# if the winner is the Red set the output = 1/True, if Blue output = 0/False\n",
        "df_input_na_filled['winner_output_red'] = (df['Winner'] == 'Red')"
      ],
      "metadata": {
        "id": "f5HDbPADVDEZ"
      },
      "execution_count": 38,
      "outputs": []
    },
    {
      "cell_type": "code",
      "source": [
        "# check the values are set\n",
        "# df_input_na_filled.head(5)"
      ],
      "metadata": {
        "id": "CH7t5yCIWIuW"
      },
      "execution_count": 39,
      "outputs": []
    },
    {
      "cell_type": "markdown",
      "source": [
        "- Dealing with the output column:<br>\n",
        "We need to set our output to a 0 or 1"
      ],
      "metadata": {
        "id": "BdPp4fhKph9A"
      }
    },
    {
      "cell_type": "code",
      "source": [
        "# Convert winner_output to a binary value\n",
        "df_input_na_filled.loc[df.Winner == 'Red', \"winner_output_red\"] = 1\n",
        "df_input_na_filled.loc[df.Winner == 'Blue', \"winner_output_red\"] = 0"
      ],
      "metadata": {
        "id": "t0sF9fsRWSdg"
      },
      "execution_count": 40,
      "outputs": []
    },
    {
      "cell_type": "code",
      "source": [
        "# Now that we are done with the Winner column we can drop it\n",
        "df_input_na_filled = df_input_na_filled.drop(['Winner'], axis = 1)\n",
        "\n",
        "# Check the current df\n",
        "# df_input_na_filled.head(10)"
      ],
      "metadata": {
        "id": "h7xT305np1ES"
      },
      "execution_count": 41,
      "outputs": []
    },
    {
      "cell_type": "markdown",
      "source": [
        "Now check our output column to see if our examples may be skewed towards y=1 or y=0"
      ],
      "metadata": {
        "id": "krGDThyv8XyR"
      }
    },
    {
      "cell_type": "code",
      "source": [
        "df_input_na_filled['winner_output_red'].value_counts()"
      ],
      "metadata": {
        "colab": {
          "base_uri": "https://localhost:8080/"
        },
        "id": "G-Gn7fpDpUWc",
        "outputId": "a4448aab-7f4c-446a-fafa-2bf22d045d47"
      },
      "execution_count": 42,
      "outputs": [
        {
          "output_type": "execute_result",
          "data": {
            "text/plain": [
              "1    3470\n",
              "0    1674\n",
              "Name: winner_output_red, dtype: int64"
            ]
          },
          "metadata": {},
          "execution_count": 42
        }
      ]
    },
    {
      "cell_type": "markdown",
      "source": [
        "This is bad, we have more than double examples of the red corner winning. We should deal with this by swapping some data where the red corner wins to the data for the blue corner since the corners are arbitrary so we can get a better balance of y=1 to y=0. But in the meantime, we can try using the \"stratify=y\" option when doing the test/train split."
      ],
      "metadata": {
        "id": "8KJK5bCqpq9n"
      }
    },
    {
      "cell_type": "code",
      "source": [
        "# find the number of samples needed to swap red with blue \n",
        "(3470-1674)/2"
      ],
      "metadata": {
        "colab": {
          "base_uri": "https://localhost:8080/"
        },
        "id": "SDjwDPPZxH19",
        "outputId": "df784869-347b-415c-ddcf-f1e5779a6357"
      },
      "execution_count": 43,
      "outputs": [
        {
          "output_type": "execute_result",
          "data": {
            "text/plain": [
              "898.0"
            ]
          },
          "metadata": {},
          "execution_count": 43
        }
      ]
    },
    {
      "cell_type": "code",
      "source": [
        "# we are going to use the first 898 examples and exchange the Blue and Red corner labels\n",
        "df_input_na_filled_first_898 = df_input_na_filled[df_input_na_filled['winner_output_red'] == 1].iloc[0:898]\n",
        "\n",
        "# check that we got the right output values\n",
        "df_input_na_filled_first_898['winner_output_red'].value_counts()"
      ],
      "metadata": {
        "colab": {
          "base_uri": "https://localhost:8080/"
        },
        "id": "Ns7ihl-113KJ",
        "outputId": "11af55dd-6146-44b7-e30b-f9579a85db7b"
      },
      "execution_count": 44,
      "outputs": [
        {
          "output_type": "execute_result",
          "data": {
            "text/plain": [
              "1    898\n",
              "Name: winner_output_red, dtype: int64"
            ]
          },
          "metadata": {},
          "execution_count": 44
        }
      ]
    },
    {
      "cell_type": "code",
      "source": [
        "# We need to switch the column names for R and B\n",
        "# df = df.rename(columns={'oldName1': 'newName1', 'oldName2': 'newName2'})\n",
        "df_input_na_filled_first_898 =  df_input_na_filled_first_898.rename(columns={'R_Height_cms':'B_Height_cms', 'B_Height_cms':'R_Height_cms', 'R_Reach_cms':'B_Reach_cms', 'B_Reach_cms':'R_Reach_cms', 'R_age':'B_age', 'B_age':'R_age', 'R_total_rounds_fought':'B_total_rounds_fought', 'B_total_rounds_fought':'R_total_rounds_fought','R_Ape_Index':'B_Ape_Index', 'B_Ape_Index':'R_Ape_Index'})\n",
        "\n",
        "# The winner was Red but we swapped the data for Red and Blue so now it is the Blue fighter that is the winner so the output changes from 1 to 0\n",
        "df_input_na_filled_first_898['winner_output_red'] = 0\n",
        "\n",
        "# Check the ouptut\n",
        "df_input_na_filled_first_898['winner_output_red'].value_counts()"
      ],
      "metadata": {
        "colab": {
          "base_uri": "https://localhost:8080/"
        },
        "id": "_9G2jJWyDhrv",
        "outputId": "47349d37-ae4b-4fdd-af32-88f82c03031d"
      },
      "execution_count": 45,
      "outputs": [
        {
          "output_type": "execute_result",
          "data": {
            "text/plain": [
              "0    898\n",
              "Name: winner_output_red, dtype: int64"
            ]
          },
          "metadata": {},
          "execution_count": 45
        }
      ]
    },
    {
      "cell_type": "code",
      "source": [
        "# remove the rows we have altered from the original dataframe \n",
        "df_input_na_filled = df_input_na_filled.drop(df_input_na_filled[df_input_na_filled['winner_output_red'] == 1].iloc[0:898].index, axis=0)\n",
        "\n",
        "# now the dataframe with the swapped columns using the concatenation function\n",
        "df_input_na_filled = pd.concat([df_input_na_filled_first_898,df_input_na_filled],ignore_index=True)\n",
        "\n",
        "# Check that the labels are balanced\n",
        "df_input_na_filled['winner_output_red'].value_counts()"
      ],
      "metadata": {
        "colab": {
          "base_uri": "https://localhost:8080/"
        },
        "id": "XeOi-kBuLLCe",
        "outputId": "ff3865ef-5986-46d8-e917-1c73415ab6a6"
      },
      "execution_count": 46,
      "outputs": [
        {
          "output_type": "execute_result",
          "data": {
            "text/plain": [
              "1    2572\n",
              "0    2572\n",
              "Name: winner_output_red, dtype: int64"
            ]
          },
          "metadata": {},
          "execution_count": 46
        }
      ]
    },
    {
      "cell_type": "code",
      "source": [
        "# Sample here to ensure our data looks good\n",
        "# df_input_na_filled.iloc[5139]"
      ],
      "metadata": {
        "id": "fTWKYa5zy5PV"
      },
      "execution_count": 47,
      "outputs": []
    },
    {
      "cell_type": "markdown",
      "source": [
        "The examples are balanced now. <br>\n",
        "Final steps"
      ],
      "metadata": {
        "id": "zJSD_8PWRsoQ"
      }
    },
    {
      "cell_type": "code",
      "source": [
        "# Get X and y for our modelling\n",
        "X = df_input_na_filled.drop(['winner_output_red'], axis = 1)\n",
        "y = df_input_na_filled['winner_output_red']"
      ],
      "metadata": {
        "id": "67ix_jPFxF41"
      },
      "execution_count": 48,
      "outputs": []
    },
    {
      "cell_type": "code",
      "source": [
        "# Check X for anything odd\n",
        "# X"
      ],
      "metadata": {
        "id": "MWm2B5jLyKPn"
      },
      "execution_count": 49,
      "outputs": []
    },
    {
      "cell_type": "code",
      "source": [
        "# Check y for anything odd\n",
        "y"
      ],
      "metadata": {
        "colab": {
          "base_uri": "https://localhost:8080/"
        },
        "id": "qcI82AaJEEfE",
        "outputId": "105664c2-2068-4c0f-c546-642280f44b20"
      },
      "execution_count": 50,
      "outputs": [
        {
          "output_type": "execute_result",
          "data": {
            "text/plain": [
              "0       0\n",
              "1       0\n",
              "2       0\n",
              "3       0\n",
              "4       0\n",
              "       ..\n",
              "5139    1\n",
              "5140    1\n",
              "5141    1\n",
              "5142    1\n",
              "5143    1\n",
              "Name: winner_output_red, Length: 5144, dtype: object"
            ]
          },
          "metadata": {},
          "execution_count": 50
        }
      ]
    },
    {
      "cell_type": "code",
      "source": [
        "# Change the data type from objec to integer for our output\n",
        "y=y.astype('int')"
      ],
      "metadata": {
        "id": "bNgJmUEMGIZx"
      },
      "execution_count": 51,
      "outputs": []
    },
    {
      "cell_type": "code",
      "source": [
        "# Split into test and train data sets. Use a small split bc we do not have much data\n",
        "X_train, X_test, y_train, y_test = train_test_split(X, y, test_size=0.2, shuffle = True, stratify = y, random_state=1)"
      ],
      "metadata": {
        "id": "cm1NABmiEUav"
      },
      "execution_count": 52,
      "outputs": []
    },
    {
      "cell_type": "markdown",
      "source": [
        "<b> Logistic Regression Classifier <b>"
      ],
      "metadata": {
        "id": "OGZo2wbSEqR7"
      }
    },
    {
      "cell_type": "code",
      "source": [
        "from sklearn.linear_model import LogisticRegression\n",
        "\n",
        "lr = LogisticRegression(max_iter=100000)\n",
        "lr.fit(X_train, y_train)\n",
        "#print(lr.intercept_)\n",
        "#print(lr.coef_)\n",
        "print()\n",
        "cv_scores = cross_val_score(lr, X_train, y_train, cv=5,scoring='accuracy')\n",
        "cv_scores\n",
        "print()\n",
        "print(\"Avg logistic regression accuracy score\",cv_scores.mean())\n",
        "y_pred_lr = lr.predict(X_test)\n",
        "print(\"Test accuracy with Logistic Regression Classifier:\", accuracy_score(y_test, y_pred_lr))"
      ],
      "metadata": {
        "colab": {
          "base_uri": "https://localhost:8080/"
        },
        "id": "ruwwZmMZ3Ksi",
        "outputId": "0f577920-a681-4da4-a7f1-f61336959608"
      },
      "execution_count": 53,
      "outputs": [
        {
          "output_type": "execute_result",
          "data": {
            "text/plain": [
              "LogisticRegression(max_iter=100000)"
            ]
          },
          "metadata": {},
          "execution_count": 53
        },
        {
          "output_type": "stream",
          "name": "stdout",
          "text": [
            "\n"
          ]
        },
        {
          "output_type": "execute_result",
          "data": {
            "text/plain": [
              "array([0.61239368, 0.61846902, 0.63061968, 0.61846902, 0.61360875])"
            ]
          },
          "metadata": {},
          "execution_count": 53
        },
        {
          "output_type": "stream",
          "name": "stdout",
          "text": [
            "\n",
            "Avg logistic regression accuracy score 0.618712029161604\n",
            "Test accuracy with Logistic Regression Classifier: 0.6345966958211856\n"
          ]
        }
      ]
    },
    {
      "cell_type": "markdown",
      "source": [
        "<b>SGD Classifier<b>"
      ],
      "metadata": {
        "id": "WRmFSpY07n3a"
      }
    },
    {
      "cell_type": "code",
      "source": [
        "from sklearn.linear_model import SGDClassifier\n",
        "\n",
        "sgd_clf = SGDClassifier(max_iter=1000, tol=1e-3, random_state=42)\n",
        "sgd_clf.fit(X_train, y_train)\n",
        "print()\n",
        "cv_scores = cross_val_score(sgd_clf, X_train, y_train, cv=5,scoring='accuracy')\n",
        "cv_scores\n",
        "print()\n",
        "print(\"Avg SGD Classifier accuracy score\",cv_scores.mean())\n",
        "y_pred_sgd = sgd_clf.predict(X_test)\n",
        "print(\"Test accuracy with SGD Classifier:\", accuracy_score(y_test, y_pred_sgd))"
      ],
      "metadata": {
        "colab": {
          "base_uri": "https://localhost:8080/"
        },
        "id": "anYiGCFf7rNr",
        "outputId": "a1cd6557-5087-4a31-bf53-7401978f0f97"
      },
      "execution_count": 54,
      "outputs": [
        {
          "output_type": "execute_result",
          "data": {
            "text/plain": [
              "SGDClassifier(random_state=42)"
            ]
          },
          "metadata": {},
          "execution_count": 54
        },
        {
          "output_type": "stream",
          "name": "stdout",
          "text": [
            "\n"
          ]
        },
        {
          "output_type": "execute_result",
          "data": {
            "text/plain": [
              "array([0.58930741, 0.5236938 , 0.5054678 , 0.50668287, 0.58566221])"
            ]
          },
          "metadata": {},
          "execution_count": 54
        },
        {
          "output_type": "stream",
          "name": "stdout",
          "text": [
            "\n",
            "Avg SGD Classifier accuracy score 0.5421628189550425\n",
            "Test accuracy with SGD Classifier: 0.500485908649174\n"
          ]
        }
      ]
    },
    {
      "cell_type": "markdown",
      "source": [
        "<b> Decision Tree Classifier </b><br>\n",
        "We are not sure what depth of tree to use so we will sweep through a set of values to try and find the best option."
      ],
      "metadata": {
        "id": "1c-aib0J3koz"
      }
    },
    {
      "cell_type": "code",
      "source": [
        "from sklearn.tree import DecisionTreeClassifier\n",
        "\n",
        "train_acc = []\n",
        "test_acc = []\n",
        "depth_max = 60\n",
        "\n",
        "for depth in range(depth_max):\n",
        "    dt = DecisionTreeClassifier(max_depth = depth+1, random_state=depth)\n",
        "    model = dt.fit(X_train,y_train)\n",
        "    depth_train_acc = cross_val_score(model, X_train, y_train, cv=5)\n",
        "    train_acc.append(np.mean(depth_train_acc))\n",
        "    depth_test_acc = cross_val_score(model, X_test, y_test, cv=5)\n",
        "    test_acc.append(np.mean(depth_test_acc))"
      ],
      "metadata": {
        "id": "9lrDDve_ujoh"
      },
      "execution_count": 55,
      "outputs": []
    },
    {
      "cell_type": "code",
      "source": [
        "figuresize = plt.figure(figsize=(12,8))\n",
        "trainAcc = plt.plot(np.arange(depth_max)+1,train_acc, '--bo')   \n",
        "testAcc = plt.plot(np.arange(depth_max)+1,test_acc, '--ro')   \n",
        "legend = plt.legend(['Train Accuracy', 'Test Accuracy'], loc ='lower right',  fontsize=15)\n",
        "title = plt.title('Cross Validation Accuracy for Multiple Depths', fontsize=20)\n",
        "xlab = plt.xlabel('Tree Depth', fontsize=15)\n",
        "ylab = plt.ylabel('CV Accuracy', fontsize=15)"
      ],
      "metadata": {
        "colab": {
          "base_uri": "https://localhost:8080/",
          "height": 523
        },
        "id": "8Jae9b6OyxZp",
        "outputId": "03405e58-d0d4-45bb-8449-709c0b9f6a5f"
      },
      "execution_count": 56,
      "outputs": [
        {
          "output_type": "display_data",
          "data": {
            "image/png": "[encoded data removed]",
            "text/plain": [
              "<Figure size 864x576 with 1 Axes>"
            ]
          },
          "metadata": {
            "needs_background": "light"
          }
        }
      ]
    },
    {
      "cell_type": "markdown",
      "source": [
        "Interestingly here, we see that adding depth actually does not help as any as the CV accuracy for the test data seems to be decreaing overall, with the max around depth 4 slightly below 64%.  <br>"
      ],
      "metadata": {
        "id": "e-auRPJ70Fa4"
      }
    },
    {
      "cell_type": "code",
      "source": [
        "# Create new decision Tree with depth 4\n",
        "# Use all data this time since we are more certain that our accuracy is consistent\n",
        "clf = DecisionTreeClassifier(criterion=\"entropy\", max_depth=4, random_state=0)\n",
        "clf = clf.fit(X_train,y_train)\n",
        "y_pred_dt = clf.predict(X_test)\n",
        "print(\"Accuracy:\", accuracy_score(y_test, y_pred_dt))"
      ],
      "metadata": {
        "colab": {
          "base_uri": "https://localhost:8080/"
        },
        "id": "EZkjr_W_IDJc",
        "outputId": "66414be6-4a8b-4a06-a01f-989aeb32797f"
      },
      "execution_count": 57,
      "outputs": [
        {
          "output_type": "stream",
          "name": "stdout",
          "text": [
            "Accuracy: 0.6656948493683188\n"
          ]
        }
      ]
    },
    {
      "cell_type": "markdown",
      "source": [
        "Lets plot the Decision tree for insight"
      ],
      "metadata": {
        "id": "41wUh8Ff7dkz"
      }
    },
    {
      "cell_type": "code",
      "source": [
        "import pydotplus\n",
        "from sklearn.tree import export_graphviz  \n",
        "from IPython.display import Image\n",
        "\n",
        "# Create DOT data\n",
        "dot_data = export_graphviz(clf, out_file=None, feature_names=X.columns)\n",
        "\n",
        "# Draw graph\n",
        "graph = pydotplus.graph_from_dot_data(dot_data)  \n",
        "\n",
        "# Show graph\n",
        "Image(graph.create_png())"
      ],
      "metadata": {
        "colab": {
          "base_uri": "https://localhost:8080/",
          "height": 329
        },
        "id": "3QR_Bhi8JtKe",
        "outputId": "ce885b47-42d0-43a1-8b48-f569137489e6"
      },
      "execution_count": 58,
      "outputs": [
        {
          "output_type": "execute_result",
          "data": {
            "image/png": "[encoded data removed]",
            "text/plain": [
              "<IPython.core.display.Image object>"
            ]
          },
          "metadata": {},
          "execution_count": 58
        }
      ]
    },
    {
      "cell_type": "markdown",
      "source": [
        "Interesting to note here that the decision tree starts the path depending how much experience the opponent has.\n",
        "<br>For fun, lets try using an Ensemble method to see if we can get better than a simple decision tree."
      ],
      "metadata": {
        "id": "IsN4dY9--fhk"
      }
    },
    {
      "cell_type": "markdown",
      "source": [
        "<b> Random Forest Classifier <b>"
      ],
      "metadata": {
        "id": "TkqkB5Qo3qzb"
      }
    },
    {
      "cell_type": "code",
      "source": [
        "from sklearn.ensemble import RandomForestClassifier\n",
        "\n",
        "rnd_clf = RandomForestClassifier(n_estimators=500, max_leaf_nodes=16, random_state=42)\n",
        "rnd_clf.fit(X_train, y_train)\n",
        "print()\n",
        "cv_scores = cross_val_score(rnd_clf, X_train, y_train, cv=5,scoring='accuracy')\n",
        "cv_scores\n",
        "print()\n",
        "print(\"Avg Random Forest Classifier accuracy score\",cv_scores.mean())\n",
        "y_pred_rf = rnd_clf.predict(X_test)\n",
        "print(\"Test accuracy with Random Forest Classifier:\", accuracy_score(y_test, y_pred_rf))"
      ],
      "metadata": {
        "id": "Dnkjc5KH9HKL",
        "colab": {
          "base_uri": "https://localhost:8080/"
        },
        "outputId": "82542d54-5456-4f16-8d76-0acffde2bf1b"
      },
      "execution_count": 59,
      "outputs": [
        {
          "output_type": "execute_result",
          "data": {
            "text/plain": [
              "RandomForestClassifier(max_leaf_nodes=16, n_estimators=500, random_state=42)"
            ]
          },
          "metadata": {},
          "execution_count": 59
        },
        {
          "output_type": "stream",
          "name": "stdout",
          "text": [
            "\n"
          ]
        },
        {
          "output_type": "execute_result",
          "data": {
            "text/plain": [
              "array([0.69137303, 0.67557716, 0.67071689, 0.67922236, 0.68286756])"
            ]
          },
          "metadata": {},
          "execution_count": 59
        },
        {
          "output_type": "stream",
          "name": "stdout",
          "text": [
            "\n",
            "Avg Random Forest Classifier accuracy score 0.679951397326853\n",
            "Test accuracy with Random Forest Classifier: 0.7045675413022352\n"
          ]
        }
      ]
    },
    {
      "cell_type": "markdown",
      "source": [
        "Suprisingly the test accuracy of the random forest algorithm here is at 70.5% and is somehow higher than the average of the training set, so it seems that something is not right here. The decision tree is not far off at 66.7% which is decent, and fortunately seems to make use of all the parameters it was given, which we can see in the plot. So it is the best model as it is the most interpretable and almost the most accurate."
      ],
      "metadata": {
        "id": "Mpct3W78tKBt"
      }
    }
  ]
}